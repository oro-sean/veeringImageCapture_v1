{
 "cells": [
  {
   "cell_type": "code",
   "execution_count": 1,
   "id": "initial_id",
   "metadata": {
    "collapsed": true,
    "ExecuteTime": {
     "end_time": "2024-05-27T14:13:52.561783Z",
     "start_time": "2024-05-27T14:13:52.158403Z"
    }
   },
   "outputs": [],
   "source": [
    "import os\n",
    "import datetime\n",
    "import shutil\n",
    "import veeringLogs\n",
    "import veeringVideo\n",
    "import threading\n",
    "\n",
    "rootDirectory = '/Users/sean/mbp_storage/'\n",
    "s=''\n",
    "year = str(s.join(list(str(datetime.datetime.now().year))[2:]))\n",
    "if len(str(datetime.datetime.now().month)) < 2:\n",
    "    month = s.join(['0',str(datetime.datetime.now().month)])\n",
    "else:\n",
    "    month = str(datetime.datetime.now().day)\n",
    "if len(str(datetime.datetime.now().day)) < 2:\n",
    "    day = s.join(['0',str(datetime.datetime.now().day)])\n",
    "else:\n",
    "    day = str(datetime.datetime.now())\n",
    "dayFolder = year+month+day\n",
    "path_dayFolder = os.path.join(rootDirectory,dayFolder)\n",
    "os.mkdir(path_dayFolder)\n",
    "folders = ['aftFacing', 'fwdFacing', 'portMain', 'stbMain', 'jib_1', 'jib_2', 'jib_3', 'log']\n",
    "\n",
    "for folder in folders:\n",
    "    os.mkdir(os.path.join(path_dayFolder,folder))"
   ]
  },
  {
   "cell_type": "code",
   "outputs": [
    {
     "ename": "NameError",
     "evalue": "name 'tail' is not defined",
     "output_type": "error",
     "traceback": [
      "\u001B[0;31m---------------------------------------------------------------------------\u001B[0m",
      "\u001B[0;31mNameError\u001B[0m                                 Traceback (most recent call last)",
      "Cell \u001B[0;32mIn[2], line 2\u001B[0m\n\u001B[1;32m      1\u001B[0m logPath_orig \u001B[38;5;241m=\u001B[39m \u001B[38;5;124m'\u001B[39m\u001B[38;5;124m/Users/sean/mbp_storage/log-2024Apr03.csv\u001B[39m\u001B[38;5;124m'\u001B[39m\n\u001B[0;32m----> 2\u001B[0m logPath \u001B[38;5;241m=\u001B[39m os\u001B[38;5;241m.\u001B[39mpath\u001B[38;5;241m.\u001B[39mjoin(path_dayFolder,\u001B[38;5;28mstr\u001B[39m(\u001B[38;5;124m'\u001B[39m\u001B[38;5;124mlog\u001B[39m\u001B[38;5;124m'\u001B[39m),\u001B[38;5;28mstr\u001B[39m(\u001B[43mtail\u001B[49m))\n\u001B[1;32m      3\u001B[0m shutil\u001B[38;5;241m.\u001B[39mcopyfile(logPath_orig, logPath)\n\u001B[1;32m      4\u001B[0m log \u001B[38;5;241m=\u001B[39m veeringLogs\u001B[38;5;241m.\u001B[39mVeeringLog(logPath)\n",
      "\u001B[0;31mNameError\u001B[0m: name 'tail' is not defined"
     ]
    }
   ],
   "source": [
    "logPath_orig = '/Users/sean/mbp_storage/log-2024Apr03.csv'\n",
    "logPath = os.path.join(path_dayFolder,str('log'),str(tail))\n",
    "shutil.copyfile(logPath_orig, logPath)\n",
    "log = veeringLogs.VeeringLog(logPath)\n",
    "log.Expedition_To_DF()\n",
    "log.Select_Variables(['Utc','TWA'])\n",
    "log.Add_Time_Zone(1)\n",
    "log.Get_Filter_TS(30,60)\n"
   ],
   "metadata": {
    "collapsed": false,
    "ExecuteTime": {
     "end_time": "2024-05-27T14:14:10.701688Z",
     "start_time": "2024-05-27T14:14:10.463420Z"
    }
   },
   "id": "471c635864cbc8c",
   "execution_count": 2
  },
  {
   "cell_type": "code",
   "outputs": [],
   "source": [
    "#Aft Facing\n",
    "def GetAftFacing():\n",
    "    os.mkdir(os.path.join(path_dayFolder,'aftFacing','lowRes'))\n",
    "    aftFacing = veeringVideo.goPro_Import('1234',os.path.join(path_dayFolder,'aftFacing','lowRes'))\n",
    "    aftFacing.Download_LowResolution()\n",
    "    veeringVideo.Video_TimeStamping(os.path.join(path_dayFolder,'aftFacing','lowRes')).Add_CSV()\n",
    "\n",
    "    os.mkdir(os.path.join(path_dayFolder,'aftFacing','hiRes'))\n",
    "    aftFacing = veeringVideo.goPro_Import('1234',os.path.join(path_dayFolder,'aftFacing','hiRes'))\n",
    "    aftFacing.Download_hiResolution()\n",
    "    veeringVideo.Video_TimeStamping(os.path.join(path_dayFolder,'aftFacing','hiRes')).Add_CSV()\n",
    "    \n",
    "def GetPortMain():\n",
    "    portMain = veeringVideo.goPro_Import('1234',os.path.join(path_dayFolder,'portMain'))\n",
    "    portMain.Download_hiResolution()\n",
    "    portMain_path = os.listdir(os.path.join(path_dayFolder,'portMain'))\n",
    "    portMain_path = os.listdir(os.path.join(path_dayFolder,'portMain',portMain_path[0]))\n",
    "    veeringVideo.Rename_GP_TimeLapse(portMain_path,1,2).Rename()\n",
    "    veeringVideo.SailTimeLapse(portMain_path).TimeLapse_To_JPG()\n",
    "    portMain_path = os.path.join(portMain_path,'jpg')\n",
    "    veeringVideo.Filter_JPG(portMain_path,log.upwindPort).Remove_Files()\n",
    "    \n",
    "                                 \n",
    "    \n",
    "\n",
    "    \n",
    "\n",
    "    \n",
    "    "
   ],
   "metadata": {
    "collapsed": false
   },
   "id": "450789a48c152253"
  },
  {
   "cell_type": "code",
   "outputs": [],
   "source": [
    "aftFacing = threading.Thread(target=GetAftFacing())\n",
    "portMain = threading.Thread(target=GetPortMain())\n",
    "\n",
    "aftFacing.start()\n",
    "portMain.start()\n",
    "\n",
    "aftFacing.join()\n",
    "portMain.join()"
   ],
   "metadata": {
    "collapsed": false
   },
   "id": "407e4d34f19d5f9d"
  }
 ],
 "metadata": {
  "kernelspec": {
   "display_name": "Python 3",
   "language": "python",
   "name": "python3"
  },
  "language_info": {
   "codemirror_mode": {
    "name": "ipython",
    "version": 2
   },
   "file_extension": ".py",
   "mimetype": "text/x-python",
   "name": "python",
   "nbconvert_exporter": "python",
   "pygments_lexer": "ipython2",
   "version": "2.7.6"
  }
 },
 "nbformat": 4,
 "nbformat_minor": 5
}
