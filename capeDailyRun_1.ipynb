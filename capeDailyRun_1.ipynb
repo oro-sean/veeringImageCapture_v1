{
 "cells": [
  {
   "cell_type": "code",
   "id": "initial_id",
   "metadata": {
    "collapsed": true,
    "ExecuteTime": {
     "end_time": "2024-06-06T17:03:03.847068Z",
     "start_time": "2024-06-06T17:03:03.843053Z"
    }
   },
   "source": [
    "import os\n",
    "import datetime\n",
    "import shutil\n",
    "import veeringLogs\n",
    "import veeringVideo\n",
    "import threading\n",
    "\n",
    "rootDirectory = '/Users/sean/mbp_storage/'\n",
    "s=''\n",
    "year = str(s.join(list(str(datetime.datetime.now().year))[2:]))\n",
    "if len(str(datetime.datetime.now().month)) < 2:\n",
    "    month = s.join(['0',str(datetime.datetime.now().month)])\n",
    "else:\n",
    "    month = str(datetime.datetime.now().day)\n",
    "if len(str(datetime.datetime.now().day)) < 2:\n",
    "    day = s.join(['0',str(datetime.datetime.now().day)])\n",
    "else:\n",
    "    day = str(datetime.datetime.now())\n",
    "dayFolder = year+month+day\n",
    "path_dayFolder = os.path.join(rootDirectory,dayFolder)\n",
    "os.mkdir(path_dayFolder)\n",
    "folders = ['aftFacing', 'fwdFacing', 'portMain', 'stbMain', 'jib_1', 'jib_2', 'jib_3', 'log']\n",
    "\n",
    "for folder in folders:\n",
    "    os.mkdir(os.path.join(path_dayFolder,folder))"
   ],
   "outputs": [],
   "execution_count": 2
  },
  {
   "cell_type": "code",
   "source": [
    "logPath_orig = '/Users/sean/mbp_storage/log-2024Jun06.csv'\n",
    "logPath = os.path.join(path_dayFolder,str('log'),str('-2024Jun06.csv'))\n",
    "shutil.copyfile(logPath_orig, logPath)\n",
    "log = veeringLogs.VeeringLog(logPath)\n",
    "log.Expedition_To_DF()\n",
    "log.Select_Variables(['Utc','TWA'])\n",
    "log.Add_Time_Zone(1)\n",
    "log.Get_Filter_TS(30,60)\n"
   ],
   "metadata": {
    "collapsed": false,
    "ExecuteTime": {
     "end_time": "2024-06-06T17:13:51.603996Z",
     "start_time": "2024-06-06T17:13:50.569787Z"
    }
   },
   "id": "471c635864cbc8c",
   "outputs": [
    {
     "ename": "KeyError",
     "evalue": "'timeStamp'",
     "output_type": "error",
     "traceback": [
      "\u001B[0;31m---------------------------------------------------------------------------\u001B[0m",
      "\u001B[0;31mKeyError\u001B[0m                                  Traceback (most recent call last)",
      "File \u001B[0;32m~/anaconda3/envs/veeringImageCapture_v1/lib/python3.10/site-packages/pandas/core/indexes/base.py:3805\u001B[0m, in \u001B[0;36mIndex.get_loc\u001B[0;34m(self, key)\u001B[0m\n\u001B[1;32m   3804\u001B[0m \u001B[38;5;28;01mtry\u001B[39;00m:\n\u001B[0;32m-> 3805\u001B[0m     \u001B[38;5;28;01mreturn\u001B[39;00m \u001B[38;5;28;43mself\u001B[39;49m\u001B[38;5;241;43m.\u001B[39;49m\u001B[43m_engine\u001B[49m\u001B[38;5;241;43m.\u001B[39;49m\u001B[43mget_loc\u001B[49m\u001B[43m(\u001B[49m\u001B[43mcasted_key\u001B[49m\u001B[43m)\u001B[49m\n\u001B[1;32m   3806\u001B[0m \u001B[38;5;28;01mexcept\u001B[39;00m \u001B[38;5;167;01mKeyError\u001B[39;00m \u001B[38;5;28;01mas\u001B[39;00m err:\n",
      "File \u001B[0;32mindex.pyx:167\u001B[0m, in \u001B[0;36mpandas._libs.index.IndexEngine.get_loc\u001B[0;34m()\u001B[0m\n",
      "File \u001B[0;32mindex.pyx:196\u001B[0m, in \u001B[0;36mpandas._libs.index.IndexEngine.get_loc\u001B[0;34m()\u001B[0m\n",
      "File \u001B[0;32mpandas/_libs/hashtable_class_helper.pxi:7081\u001B[0m, in \u001B[0;36mpandas._libs.hashtable.PyObjectHashTable.get_item\u001B[0;34m()\u001B[0m\n",
      "File \u001B[0;32mpandas/_libs/hashtable_class_helper.pxi:7089\u001B[0m, in \u001B[0;36mpandas._libs.hashtable.PyObjectHashTable.get_item\u001B[0;34m()\u001B[0m\n",
      "\u001B[0;31mKeyError\u001B[0m: 'timeStamp'",
      "\nThe above exception was the direct cause of the following exception:\n",
      "\u001B[0;31mKeyError\u001B[0m                                  Traceback (most recent call last)",
      "Cell \u001B[0;32mIn[6], line 8\u001B[0m\n\u001B[1;32m      6\u001B[0m log\u001B[38;5;241m.\u001B[39mSelect_Variables([\u001B[38;5;124m'\u001B[39m\u001B[38;5;124mUtc\u001B[39m\u001B[38;5;124m'\u001B[39m,\u001B[38;5;124m'\u001B[39m\u001B[38;5;124mTWA\u001B[39m\u001B[38;5;124m'\u001B[39m])\n\u001B[1;32m      7\u001B[0m log\u001B[38;5;241m.\u001B[39mAdd_Time_Zone(\u001B[38;5;241m1\u001B[39m)\n\u001B[0;32m----> 8\u001B[0m \u001B[43mlog\u001B[49m\u001B[38;5;241;43m.\u001B[39;49m\u001B[43mGet_Filter_TS\u001B[49m\u001B[43m(\u001B[49m\u001B[38;5;241;43m30\u001B[39;49m\u001B[43m,\u001B[49m\u001B[38;5;241;43m60\u001B[39;49m\u001B[43m)\u001B[49m\n",
      "File \u001B[0;32m~/DataspellProjects/veeringImageCapture_v1/veeringLogs.py:48\u001B[0m, in \u001B[0;36mVeeringLog.Get_Filter_TS\u001B[0;34m(self, heighLimit, lowLimit)\u001B[0m\n\u001B[1;32m     47\u001B[0m \u001B[38;5;28;01mdef\u001B[39;00m \u001B[38;5;21mGet_Filter_TS\u001B[39m(\u001B[38;5;28mself\u001B[39m,heighLimit,lowLimit):\n\u001B[0;32m---> 48\u001B[0m     upwindPort \u001B[38;5;241m=\u001B[39m \u001B[38;5;28;43mself\u001B[39;49m\u001B[38;5;241;43m.\u001B[39;49m\u001B[43mlog_df\u001B[49m\u001B[43m[\u001B[49m\u001B[38;5;124;43m'\u001B[39;49m\u001B[38;5;124;43mtimeStamp\u001B[39;49m\u001B[38;5;124;43m'\u001B[39;49m\u001B[43m]\u001B[49m\u001B[38;5;241m.\u001B[39mloc[(\u001B[38;5;28mself\u001B[39m\u001B[38;5;241m.\u001B[39mlog_df[\u001B[38;5;124m'\u001B[39m\u001B[38;5;124mTWA\u001B[39m\u001B[38;5;124m'\u001B[39m] \u001B[38;5;241m<\u001B[39m heighLimit\u001B[38;5;241m*\u001B[39m\u001B[38;5;241m-\u001B[39m\u001B[38;5;241m1\u001B[39m) \u001B[38;5;241m&\u001B[39m (\u001B[38;5;28mself\u001B[39m\u001B[38;5;241m.\u001B[39mlog_df[\u001B[38;5;124m'\u001B[39m\u001B[38;5;124mTWA\u001B[39m\u001B[38;5;124m'\u001B[39m] \u001B[38;5;241m>\u001B[39m lowLimit\u001B[38;5;241m*\u001B[39m\u001B[38;5;241m-\u001B[39m\u001B[38;5;241m1\u001B[39m)]\n\u001B[1;32m     49\u001B[0m     upwindStb \u001B[38;5;241m=\u001B[39m \u001B[38;5;28mself\u001B[39m\u001B[38;5;241m.\u001B[39mlog_df[\u001B[38;5;124m'\u001B[39m\u001B[38;5;124mtimeStamp\u001B[39m\u001B[38;5;124m'\u001B[39m]\u001B[38;5;241m.\u001B[39mloc[(\u001B[38;5;28mself\u001B[39m\u001B[38;5;241m.\u001B[39mlog_df[\u001B[38;5;124m'\u001B[39m\u001B[38;5;124mTWA\u001B[39m\u001B[38;5;124m'\u001B[39m] \u001B[38;5;241m<\u001B[39m lowLimit) \u001B[38;5;241m&\u001B[39m (\u001B[38;5;28mself\u001B[39m\u001B[38;5;241m.\u001B[39mlog_df[\u001B[38;5;124m'\u001B[39m\u001B[38;5;124mTWA\u001B[39m\u001B[38;5;124m'\u001B[39m] \u001B[38;5;241m>\u001B[39m heighLimit)]\n\u001B[1;32m     50\u001B[0m     \u001B[38;5;28mself\u001B[39m\u001B[38;5;241m.\u001B[39mupwindStb \u001B[38;5;241m=\u001B[39m[]\n",
      "File \u001B[0;32m~/anaconda3/envs/veeringImageCapture_v1/lib/python3.10/site-packages/pandas/core/frame.py:4090\u001B[0m, in \u001B[0;36mDataFrame.__getitem__\u001B[0;34m(self, key)\u001B[0m\n\u001B[1;32m   4088\u001B[0m \u001B[38;5;28;01mif\u001B[39;00m \u001B[38;5;28mself\u001B[39m\u001B[38;5;241m.\u001B[39mcolumns\u001B[38;5;241m.\u001B[39mnlevels \u001B[38;5;241m>\u001B[39m \u001B[38;5;241m1\u001B[39m:\n\u001B[1;32m   4089\u001B[0m     \u001B[38;5;28;01mreturn\u001B[39;00m \u001B[38;5;28mself\u001B[39m\u001B[38;5;241m.\u001B[39m_getitem_multilevel(key)\n\u001B[0;32m-> 4090\u001B[0m indexer \u001B[38;5;241m=\u001B[39m \u001B[38;5;28;43mself\u001B[39;49m\u001B[38;5;241;43m.\u001B[39;49m\u001B[43mcolumns\u001B[49m\u001B[38;5;241;43m.\u001B[39;49m\u001B[43mget_loc\u001B[49m\u001B[43m(\u001B[49m\u001B[43mkey\u001B[49m\u001B[43m)\u001B[49m\n\u001B[1;32m   4091\u001B[0m \u001B[38;5;28;01mif\u001B[39;00m is_integer(indexer):\n\u001B[1;32m   4092\u001B[0m     indexer \u001B[38;5;241m=\u001B[39m [indexer]\n",
      "File \u001B[0;32m~/anaconda3/envs/veeringImageCapture_v1/lib/python3.10/site-packages/pandas/core/indexes/base.py:3812\u001B[0m, in \u001B[0;36mIndex.get_loc\u001B[0;34m(self, key)\u001B[0m\n\u001B[1;32m   3807\u001B[0m     \u001B[38;5;28;01mif\u001B[39;00m \u001B[38;5;28misinstance\u001B[39m(casted_key, \u001B[38;5;28mslice\u001B[39m) \u001B[38;5;129;01mor\u001B[39;00m (\n\u001B[1;32m   3808\u001B[0m         \u001B[38;5;28misinstance\u001B[39m(casted_key, abc\u001B[38;5;241m.\u001B[39mIterable)\n\u001B[1;32m   3809\u001B[0m         \u001B[38;5;129;01mand\u001B[39;00m \u001B[38;5;28many\u001B[39m(\u001B[38;5;28misinstance\u001B[39m(x, \u001B[38;5;28mslice\u001B[39m) \u001B[38;5;28;01mfor\u001B[39;00m x \u001B[38;5;129;01min\u001B[39;00m casted_key)\n\u001B[1;32m   3810\u001B[0m     ):\n\u001B[1;32m   3811\u001B[0m         \u001B[38;5;28;01mraise\u001B[39;00m InvalidIndexError(key)\n\u001B[0;32m-> 3812\u001B[0m     \u001B[38;5;28;01mraise\u001B[39;00m \u001B[38;5;167;01mKeyError\u001B[39;00m(key) \u001B[38;5;28;01mfrom\u001B[39;00m \u001B[38;5;21;01merr\u001B[39;00m\n\u001B[1;32m   3813\u001B[0m \u001B[38;5;28;01mexcept\u001B[39;00m \u001B[38;5;167;01mTypeError\u001B[39;00m:\n\u001B[1;32m   3814\u001B[0m     \u001B[38;5;66;03m# If we have a listlike key, _check_indexing_error will raise\u001B[39;00m\n\u001B[1;32m   3815\u001B[0m     \u001B[38;5;66;03m#  InvalidIndexError. Otherwise we fall through and re-raise\u001B[39;00m\n\u001B[1;32m   3816\u001B[0m     \u001B[38;5;66;03m#  the TypeError.\u001B[39;00m\n\u001B[1;32m   3817\u001B[0m     \u001B[38;5;28mself\u001B[39m\u001B[38;5;241m.\u001B[39m_check_indexing_error(key)\n",
      "\u001B[0;31mKeyError\u001B[0m: 'timeStamp'"
     ]
    }
   ],
   "execution_count": 6
  },
  {
   "cell_type": "code",
   "source": [
    "#Aft Facing\n",
    "def GetAftFacing():\n",
    "    os.mkdir(os.path.join(path_dayFolder,'aftFacing','lowRes'))\n",
    "    aftFacing = veeringVideo.goPro_Import('1234',os.path.join(path_dayFolder,'aftFacing','lowRes'))\n",
    "    aftFacing.Download_LowResolution()\n",
    "    veeringVideo.Video_TimeStamping(os.path.join(path_dayFolder,'aftFacing','lowRes')).Add_CSV()\n",
    "\n",
    "    os.mkdir(os.path.join(path_dayFolder,'aftFacing','hiRes'))\n",
    "    aftFacing = veeringVideo.goPro_Import('692693',os.path.join(path_dayFolder,'aftFacing','hiRes'))\n",
    "    aftFacing.Download_hiResolution()\n",
    "    veeringVideo.Video_TimeStamping(os.path.join(path_dayFolder,'aftFacing','hiRes')).Add_CSV()\n",
    "    \n",
    "def GetPortMain():\n",
    "    portMain = veeringVideo.goPro_Import('1234',os.path.join(path_dayFolder,'portMain'))\n",
    "    portMain.Download_hiResolution()\n",
    "    portMain_path = os.listdir(os.path.join(path_dayFolder,'portMain'))\n",
    "    portMain_path = os.listdir(os.path.join(path_dayFolder,'portMain',portMain_path[0]))\n",
    "    veeringVideo.Rename_GP_TimeLapse(portMain_path,1,2).Rename()\n",
    "    veeringVideo.SailTimeLapse(portMain_path).TimeLapse_To_JPG()\n",
    "    portMain_path = os.path.join(portMain_path,'jpg')\n",
    "    veeringVideo.Filter_JPG(portMain_path,log.upwindPort).Remove_Files()\n",
    "    \n",
    "                                 \n",
    "    \n",
    "\n",
    "    \n",
    "\n",
    "    \n",
    "    "
   ],
   "metadata": {
    "collapsed": false,
    "ExecuteTime": {
     "end_time": "2024-06-06T04:34:30.931453Z",
     "start_time": "2024-06-06T04:34:30.927894Z"
    }
   },
   "id": "450789a48c152253",
   "outputs": [],
   "execution_count": 7
  },
  {
   "cell_type": "code",
   "outputs": [],
   "source": [
    "aftFacing = threading.Thread(target=GetAftFacing())\n",
    "portMain = threading.Thread(target=GetPortMain())\n",
    "\n",
    "aftFacing.start()\n",
    "portMain.start()\n",
    "\n",
    "aftFacing.join()\n",
    "portMain.join()"
   ],
   "metadata": {
    "collapsed": false
   },
   "id": "407e4d34f19d5f9d",
   "execution_count": null
  },
  {
   "metadata": {
    "ExecuteTime": {
     "end_time": "2024-06-05T17:15:17.154384Z",
     "start_time": "2024-06-05T17:15:14.062055Z"
    }
   },
   "cell_type": "code",
   "source": [
    "#os.mkdir(os.path.join(path_dayFolder,'aftFacing','hiRes'))\n",
    "#aftFacing = veeringVideo.goPro_Import('1234',os.path.join(path_dayFolder,'aftFacing','hiRes'))\n",
    "#aftFacing.Download_hiResolution()\n",
    "veeringVideo.Video_TimeStamping(os.path.join(path_dayFolder,'aftFacing','hiRes')).Add_CSV()"
   ],
   "id": "2a48f0cbb5b542bf",
   "outputs": [],
   "execution_count": 4
  },
  {
   "metadata": {
    "ExecuteTime": {
     "end_time": "2024-06-06T17:06:26.864115Z",
     "start_time": "2024-06-06T17:06:26.697744Z"
    }
   },
   "cell_type": "code",
   "source": [
    "#os.mkdir(os.path.join(path_dayFolder,'aftFacing','lowRes'))\n",
    "#aftFacing = veeringVideo.goPro_Import('1234',os.path.join(path_dayFolder,'aftFacing','hiRes'))\n",
    "#aftFacing.Download_hiResolution()\n",
    "veeringVideo.Video_TimeStamping(os.path.join(path_dayFolder,'aftFacing','lowRes')).Add_CSV()"
   ],
   "id": "46f12793e32607a",
   "outputs": [],
   "execution_count": 5
  },
  {
   "metadata": {},
   "cell_type": "code",
   "outputs": [],
   "execution_count": null,
   "source": [
    "os.mkdir(os.path.join(path_dayFolder,'aftFacing','hiRes'))\n",
    "aftFacing = veeringVideo.goPro_Import('692693',os.path.join(path_dayFolder,'aftFacing','hiRes'))\n",
    "aftFacing.Download_hiResolution()\n",
    "veeringVideo.Video_TimeStamping(os.path.join(path_dayFolder,'aftFacing','hiRes')).Add_CSV()"
   ],
   "id": "a84c01f3919f89d9"
  },
  {
   "metadata": {
    "ExecuteTime": {
     "end_time": "2024-06-06T04:37:32.604670Z",
     "start_time": "2024-06-06T04:37:32.560030Z"
    }
   },
   "cell_type": "code",
   "source": [
    "os.mkdir(os.path.join(path_dayFolder,'aftFacing','lowRes'))\n",
    "aftFacing = veeringVideo.goPro_Import('692693',os.path.join(path_dayFolder,'aftFacing','lowRes'))\n",
    "aftFacing.Download_LowResolution()\n",
    "veeringVideo.Video_TimeStamping(os.path.join(path_dayFolder,'aftFacing','lowRes')).Add_CSV()"
   ],
   "id": "d01196bdf2d9f605",
   "outputs": [
    {
     "ename": "RuntimeError",
     "evalue": "asyncio.run() cannot be called from a running event loop",
     "output_type": "error",
     "traceback": [
      "\u001B[0;31m---------------------------------------------------------------------------\u001B[0m",
      "\u001B[0;31mRuntimeError\u001B[0m                              Traceback (most recent call last)",
      "Cell \u001B[0;32mIn[9], line 3\u001B[0m\n\u001B[1;32m      1\u001B[0m os\u001B[38;5;241m.\u001B[39mmkdir(os\u001B[38;5;241m.\u001B[39mpath\u001B[38;5;241m.\u001B[39mjoin(path_dayFolder,\u001B[38;5;124m'\u001B[39m\u001B[38;5;124maftFacing\u001B[39m\u001B[38;5;124m'\u001B[39m,\u001B[38;5;124m'\u001B[39m\u001B[38;5;124mlowRes\u001B[39m\u001B[38;5;124m'\u001B[39m))\n\u001B[1;32m      2\u001B[0m aftFacing \u001B[38;5;241m=\u001B[39m veeringVideo\u001B[38;5;241m.\u001B[39mgoPro_Import(\u001B[38;5;124m'\u001B[39m\u001B[38;5;124m692693\u001B[39m\u001B[38;5;124m'\u001B[39m,os\u001B[38;5;241m.\u001B[39mpath\u001B[38;5;241m.\u001B[39mjoin(path_dayFolder,\u001B[38;5;124m'\u001B[39m\u001B[38;5;124maftFacing\u001B[39m\u001B[38;5;124m'\u001B[39m,\u001B[38;5;124m'\u001B[39m\u001B[38;5;124mlowRes\u001B[39m\u001B[38;5;124m'\u001B[39m))\n\u001B[0;32m----> 3\u001B[0m \u001B[43maftFacing\u001B[49m\u001B[38;5;241;43m.\u001B[39;49m\u001B[43mDownload_LowResolution\u001B[49m\u001B[43m(\u001B[49m\u001B[43m)\u001B[49m\n\u001B[1;32m      4\u001B[0m veeringVideo\u001B[38;5;241m.\u001B[39mVideo_TimeStamping(os\u001B[38;5;241m.\u001B[39mpath\u001B[38;5;241m.\u001B[39mjoin(path_dayFolder,\u001B[38;5;124m'\u001B[39m\u001B[38;5;124maftFacing\u001B[39m\u001B[38;5;124m'\u001B[39m,\u001B[38;5;124m'\u001B[39m\u001B[38;5;124mlowRes\u001B[39m\u001B[38;5;124m'\u001B[39m))\u001B[38;5;241m.\u001B[39mAdd_CSV()\n",
      "File \u001B[0;32m~/DataspellProjects/veeringImageCapture_v1/veeringVideo.py:248\u001B[0m, in \u001B[0;36mgoPro_Import.Download_LowResolution\u001B[0;34m(self)\u001B[0m\n\u001B[1;32m    245\u001B[0m             \u001B[38;5;28mprint\u001B[39m(\u001B[38;5;124m'\u001B[39m\u001B[38;5;124mdownloading: \u001B[39m\u001B[38;5;124m'\u001B[39m\u001B[38;5;241m+\u001B[39m\u001B[38;5;28mstr\u001B[39m(file)\u001B[38;5;241m+\u001B[39m\u001B[38;5;124m'\u001B[39m\u001B[38;5;124m from: \u001B[39m\u001B[38;5;124m'\u001B[39m\u001B[38;5;241m+\u001B[39m\u001B[38;5;28mstr\u001B[39m(gp))\n\u001B[1;32m    246\u001B[0m         \u001B[38;5;28;01mawait\u001B[39;00m gopro\u001B[38;5;241m.\u001B[39mhttp_command\u001B[38;5;241m.\u001B[39mdownload_file(camera_file\u001B[38;5;241m=\u001B[39mfile,file\u001B[38;5;241m=\u001B[39m\u001B[38;5;28mself\u001B[39m\u001B[38;5;241m.\u001B[39mdestinationPath)\n\u001B[0;32m--> 248\u001B[0m \u001B[43masyncio\u001B[49m\u001B[38;5;241;43m.\u001B[39;49m\u001B[43mrun\u001B[49m\u001B[43m(\u001B[49m\u001B[43mmain\u001B[49m\u001B[43m(\u001B[49m\u001B[38;5;28;43mself\u001B[39;49m\u001B[38;5;241;43m.\u001B[39;49m\u001B[43mserialNo\u001B[49m\u001B[43m)\u001B[49m\u001B[43m)\u001B[49m\n",
      "File \u001B[0;32m~/anaconda3/envs/veeringImageCapture_v1/lib/python3.10/asyncio/runners.py:33\u001B[0m, in \u001B[0;36mrun\u001B[0;34m(main, debug)\u001B[0m\n\u001B[1;32m      9\u001B[0m \u001B[38;5;250m\u001B[39m\u001B[38;5;124;03m\"\"\"Execute the coroutine and return the result.\u001B[39;00m\n\u001B[1;32m     10\u001B[0m \n\u001B[1;32m     11\u001B[0m \u001B[38;5;124;03mThis function runs the passed coroutine, taking care of\u001B[39;00m\n\u001B[0;32m   (...)\u001B[0m\n\u001B[1;32m     30\u001B[0m \u001B[38;5;124;03m    asyncio.run(main())\u001B[39;00m\n\u001B[1;32m     31\u001B[0m \u001B[38;5;124;03m\"\"\"\u001B[39;00m\n\u001B[1;32m     32\u001B[0m \u001B[38;5;28;01mif\u001B[39;00m events\u001B[38;5;241m.\u001B[39m_get_running_loop() \u001B[38;5;129;01mis\u001B[39;00m \u001B[38;5;129;01mnot\u001B[39;00m \u001B[38;5;28;01mNone\u001B[39;00m:\n\u001B[0;32m---> 33\u001B[0m     \u001B[38;5;28;01mraise\u001B[39;00m \u001B[38;5;167;01mRuntimeError\u001B[39;00m(\n\u001B[1;32m     34\u001B[0m         \u001B[38;5;124m\"\u001B[39m\u001B[38;5;124masyncio.run() cannot be called from a running event loop\u001B[39m\u001B[38;5;124m\"\u001B[39m)\n\u001B[1;32m     36\u001B[0m \u001B[38;5;28;01mif\u001B[39;00m \u001B[38;5;129;01mnot\u001B[39;00m coroutines\u001B[38;5;241m.\u001B[39miscoroutine(main):\n\u001B[1;32m     37\u001B[0m     \u001B[38;5;28;01mraise\u001B[39;00m \u001B[38;5;167;01mValueError\u001B[39;00m(\u001B[38;5;124m\"\u001B[39m\u001B[38;5;124ma coroutine was expected, got \u001B[39m\u001B[38;5;132;01m{!r}\u001B[39;00m\u001B[38;5;124m\"\u001B[39m\u001B[38;5;241m.\u001B[39mformat(main))\n",
      "\u001B[0;31mRuntimeError\u001B[0m: asyncio.run() cannot be called from a running event loop"
     ]
    }
   ],
   "execution_count": 9
  },
  {
   "metadata": {},
   "cell_type": "code",
   "outputs": [],
   "execution_count": null,
   "source": "",
   "id": "e861355e8c0bb1a0"
  }
 ],
 "metadata": {
  "kernelspec": {
   "display_name": "Python 3",
   "language": "python",
   "name": "python3"
  },
  "language_info": {
   "codemirror_mode": {
    "name": "ipython",
    "version": 2
   },
   "file_extension": ".py",
   "mimetype": "text/x-python",
   "name": "python",
   "nbconvert_exporter": "python",
   "pygments_lexer": "ipython2",
   "version": "2.7.6"
  }
 },
 "nbformat": 4,
 "nbformat_minor": 5
}
