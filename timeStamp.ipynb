{
 "cells": [
  {
   "cell_type": "code",
   "execution_count": 19,
   "id": "initial_id",
   "metadata": {
    "collapsed": true,
    "ExecuteTime": {
     "end_time": "2024-04-26T17:38:51.938599Z",
     "start_time": "2024-04-26T17:38:51.866192Z"
    }
   },
   "outputs": [],
   "source": [
    "import ffmpeg\n",
    "import os\n",
    "\n",
    "import numpy as np\n",
    "\n",
    "out = ffmpeg.probe('/Users/sean/mbp_storage/240420/fwdFacing/GX010037.MP4',)"
   ]
  },
  {
   "cell_type": "code",
   "outputs": [
    {
     "data": {
      "text/plain": "dict_keys(['streams', 'format'])"
     },
     "execution_count": 4,
     "metadata": {},
     "output_type": "execute_result"
    }
   ],
   "source": [
    "out.keys()"
   ],
   "metadata": {
    "collapsed": false,
    "ExecuteTime": {
     "end_time": "2024-04-26T17:19:10.620713Z",
     "start_time": "2024-04-26T17:19:10.615869Z"
    }
   },
   "id": "8d47dfa0d8849dcb",
   "execution_count": 4
  },
  {
   "cell_type": "code",
   "outputs": [
    {
     "data": {
      "text/plain": "'2114.112000'"
     },
     "execution_count": 17,
     "metadata": {},
     "output_type": "execute_result"
    }
   ],
   "source": [
    "out['streams'][0]['duration']"
   ],
   "metadata": {
    "collapsed": false,
    "ExecuteTime": {
     "end_time": "2024-04-26T17:30:43.377578Z",
     "start_time": "2024-04-26T17:30:43.374011Z"
    }
   },
   "id": "7c51ded595f855df",
   "execution_count": 17
  },
  {
   "cell_type": "code",
   "outputs": [
    {
     "data": {
      "text/plain": "'2024-04-20T17:09:28.000000Z'"
     },
     "execution_count": 16,
     "metadata": {},
     "output_type": "execute_result"
    }
   ],
   "source": [
    "out['streams'][0]['tags']['creation_time']"
   ],
   "metadata": {
    "collapsed": false,
    "ExecuteTime": {
     "end_time": "2024-04-26T17:30:39.281951Z",
     "start_time": "2024-04-26T17:30:39.278050Z"
    }
   },
   "id": "47e6375feda4ad90",
   "execution_count": 16
  },
  {
   "cell_type": "code",
   "outputs": [],
   "source": [
    "files = os.listdir('/Users/sean/mbp_storage/timeStamp/')"
   ],
   "metadata": {
    "collapsed": false,
    "ExecuteTime": {
     "end_time": "2024-04-26T18:07:19.856343Z",
     "start_time": "2024-04-26T18:07:19.852861Z"
    }
   },
   "id": "280064dc5a38182f",
   "execution_count": 72
  },
  {
   "cell_type": "code",
   "outputs": [
    {
     "data": {
      "text/plain": "['GX050037.MP4',\n 'GX070046.MP4',\n 'GX040037.MP4',\n 'GX060046.MP4',\n 'GX040046.MP4',\n 'GX060037.MP4',\n 'GX050046.MP4',\n 'GX070037.MP4',\n 'GX020037.MP4',\n 'GX010046.MP4',\n 'GX030037.MP4',\n 'GX080046.MP4',\n 'GX010037.MP4',\n 'GX030046.MP4',\n 'GX080037.MP4',\n 'GX020046.MP4']"
     },
     "execution_count": 73,
     "metadata": {},
     "output_type": "execute_result"
    }
   ],
   "source": [
    "files"
   ],
   "metadata": {
    "collapsed": false,
    "ExecuteTime": {
     "end_time": "2024-04-26T18:07:20.274948Z",
     "start_time": "2024-04-26T18:07:20.271194Z"
    }
   },
   "id": "56f89858523ebdff",
   "execution_count": 73
  },
  {
   "cell_type": "code",
   "outputs": [],
   "source": [
    "videos = []\n",
    "chapters = []\n",
    "prefix = []\n",
    "suffix = []\n",
    "s=''\n",
    "for file in files:\n",
    "    videos.append(s.join(list(file)[4:8]))\n",
    "    chapters.append(s.join(list(file)[2:4]))\n",
    "    prefix.append(s.join(list(file)[:2]))\n",
    "    suffix.append(s.join(list(file)[8:]))\n",
    "    "
   ],
   "metadata": {
    "collapsed": false,
    "ExecuteTime": {
     "end_time": "2024-04-26T18:49:46.734967Z",
     "start_time": "2024-04-26T18:49:46.731437Z"
    }
   },
   "id": "9e348589ce5b401b",
   "execution_count": 113
  },
  {
   "cell_type": "code",
   "outputs": [],
   "source": [
    "import pandas as pd"
   ],
   "metadata": {
    "collapsed": false,
    "ExecuteTime": {
     "end_time": "2024-04-26T18:49:47.721145Z",
     "start_time": "2024-04-26T18:49:47.718664Z"
    }
   },
   "id": "ecbe52ba440c1c84",
   "execution_count": 114
  },
  {
   "cell_type": "code",
   "outputs": [],
   "source": [
    "df = pd.DataFrame({'video': videos, 'chapter': chapters, 'prefix': prefix, 'suffix':suffix})"
   ],
   "metadata": {
    "collapsed": false,
    "ExecuteTime": {
     "end_time": "2024-04-26T18:49:48.234713Z",
     "start_time": "2024-04-26T18:49:48.231995Z"
    }
   },
   "id": "8b703212f2e4a9d0",
   "execution_count": 115
  },
  {
   "cell_type": "code",
   "outputs": [],
   "source": [
    "df = pd.DataFrame({'video': videos, 'chapter': chapters, 'prefix': prefix, 'suffix':suffix})\n",
    "df.sort_values(by=['video', 'chapter'],inplace=True, ignore_index=True)"
   ],
   "metadata": {
    "collapsed": false,
    "ExecuteTime": {
     "end_time": "2024-04-26T18:49:50.284393Z",
     "start_time": "2024-04-26T18:49:50.280319Z"
    }
   },
   "id": "471073e9d73b892c",
   "execution_count": 116
  },
  {
   "cell_type": "code",
   "outputs": [],
   "source": [
    "files = []\n",
    "currentVideo = []\n",
    "firstChapters_ind = []\n",
    "otherChapters_ind = []\n",
    "for i in range(len(df)):\n",
    "    if currentVideo != str(df['video'][i]):\n",
    "        currentVideo = str(df['video'][i])\n",
    "        firstChapters_ind.append(i)\n",
    "    else:\n",
    "        otherChapters_ind.append(i)\n",
    "    files.append(str(df['prefix'][i])+str(df['chapter'][i])+str(df['video'][i])+str(df['suffix'][i]))"
   ],
   "metadata": {
    "collapsed": false,
    "ExecuteTime": {
     "end_time": "2024-04-26T18:50:09.906789Z",
     "start_time": "2024-04-26T18:50:09.904032Z"
    }
   },
   "id": "7c0727f59d3a5ef6",
   "execution_count": 120
  },
  {
   "cell_type": "code",
   "outputs": [
    {
     "data": {
      "text/plain": "['GX010037.MP4',\n 'GX020037.MP4',\n 'GX030037.MP4',\n 'GX040037.MP4',\n 'GX050037.MP4',\n 'GX060037.MP4',\n 'GX070037.MP4',\n 'GX080037.MP4',\n 'GX010046.MP4',\n 'GX020046.MP4',\n 'GX030046.MP4',\n 'GX040046.MP4',\n 'GX050046.MP4',\n 'GX060046.MP4',\n 'GX070046.MP4',\n 'GX080046.MP4']"
     },
     "execution_count": 121,
     "metadata": {},
     "output_type": "execute_result"
    }
   ],
   "source": [
    "files"
   ],
   "metadata": {
    "collapsed": false,
    "ExecuteTime": {
     "end_time": "2024-04-26T18:50:10.554955Z",
     "start_time": "2024-04-26T18:50:10.551252Z"
    }
   },
   "id": "f379dd645bd7aefd",
   "execution_count": 121
  },
  {
   "cell_type": "code",
   "outputs": [
    {
     "data": {
      "text/plain": "[0, 8]"
     },
     "execution_count": 122,
     "metadata": {},
     "output_type": "execute_result"
    }
   ],
   "source": [
    "firstChapters_ind"
   ],
   "metadata": {
    "collapsed": false,
    "ExecuteTime": {
     "end_time": "2024-04-26T18:50:15.377043Z",
     "start_time": "2024-04-26T18:50:15.373856Z"
    }
   },
   "id": "1a675d4796dda3f6",
   "execution_count": 122
  },
  {
   "cell_type": "code",
   "outputs": [
    {
     "data": {
      "text/plain": "[1, 2, 3, 4, 5, 6, 7, 9, 10, 11, 12, 13, 14, 15]"
     },
     "execution_count": 123,
     "metadata": {},
     "output_type": "execute_result"
    }
   ],
   "source": [
    "otherChapters_ind"
   ],
   "metadata": {
    "collapsed": false,
    "ExecuteTime": {
     "end_time": "2024-04-26T18:50:16.720798Z",
     "start_time": "2024-04-26T18:50:16.717223Z"
    }
   },
   "id": "e7d55f2e48070ad3",
   "execution_count": 123
  },
  {
   "cell_type": "code",
   "outputs": [],
   "source": [
    "import datetime\n",
    "timeStamps = []\n",
    "timeDeltas = []\n",
    "for i in range(len(files)):\n",
    "    metaData = ffmpeg.probe(os.path.join('/Users/sean/mbp_storage/timeStamp/',files[i]))\n",
    "    if i in firstChapters_ind:\n",
    "        origin = datetime.datetime.strptime(metaData['streams'][0]['tags']['creation_time'], '%Y-%m-%dT%H:%M:%S.%fZ')\n",
    "        timeStamp = datetime.datetime.strptime(metaData['streams'][0]['tags']['creation_time'], '%Y-%m-%dT%H:%M:%S.%fZ')\n",
    "        duration =  datetime.timedelta(seconds=float(metaData['streams'][0]['duration']))\n",
    "        timeSince = datetime.timedelta(seconds=float(metaData['streams'][0]['duration']))\n",
    "        timeDeltas.append(datetime.timedelta(seconds=0))\n",
    "        timeStamps.append(timeStamp)\n",
    "        \n",
    "        \n",
    "    else:\n",
    "        timeStamp = origin + timeSince\n",
    "        duration =  datetime.timedelta(seconds=float(metaData['streams'][0]['duration']))\n",
    "        timeDeltas.append(timeSince)\n",
    "        timeStamps.append(timeStamp)\n",
    "        timeSince = timeSince + duration\n",
    "\n",
    "        \n",
    "        \n",
    "        "
   ],
   "metadata": {
    "collapsed": false,
    "ExecuteTime": {
     "end_time": "2024-04-26T19:35:38.276990Z",
     "start_time": "2024-04-26T19:35:38.011205Z"
    }
   },
   "id": "b5b01100067630b1",
   "execution_count": 174
  },
  {
   "cell_type": "code",
   "outputs": [
    {
     "data": {
      "text/plain": "'2024-04-20 17:09:28'"
     },
     "execution_count": 163,
     "metadata": {},
     "output_type": "execute_result"
    }
   ],
   "source": [
    "\n"
   ],
   "metadata": {
    "collapsed": false,
    "ExecuteTime": {
     "end_time": "2024-04-26T19:25:42.661387Z",
     "start_time": "2024-04-26T19:25:42.657994Z"
    }
   },
   "id": "7b56c184c0a19c85",
   "execution_count": 163
  },
  {
   "cell_type": "code",
   "outputs": [
    {
     "data": {
      "text/plain": "'0:35:14.112000'"
     },
     "execution_count": 164,
     "metadata": {},
     "output_type": "execute_result"
    }
   ],
   "source": [],
   "metadata": {
    "collapsed": false,
    "ExecuteTime": {
     "end_time": "2024-04-26T19:25:54.265874Z",
     "start_time": "2024-04-26T19:25:54.262415Z"
    }
   },
   "id": "f1625353621b58f9",
   "execution_count": 164
  },
  {
   "cell_type": "code",
   "outputs": [
    {
     "data": {
      "text/plain": "'2114.112000'"
     },
     "execution_count": 172,
     "metadata": {},
     "output_type": "execute_result"
    }
   ],
   "source": [],
   "metadata": {
    "collapsed": false,
    "ExecuteTime": {
     "end_time": "2024-04-26T19:34:04.980837Z",
     "start_time": "2024-04-26T19:34:04.977310Z"
    }
   },
   "id": "27c451b96d9f47dc",
   "execution_count": 172
  },
  {
   "cell_type": "code",
   "outputs": [],
   "source": [
    "import csv"
   ],
   "metadata": {
    "collapsed": false,
    "ExecuteTime": {
     "end_time": "2024-04-26T19:38:48.043707Z",
     "start_time": "2024-04-26T19:38:48.039857Z"
    }
   },
   "id": "dd99acd49a0e3f72",
   "execution_count": 177
  },
  {
   "cell_type": "code",
   "outputs": [],
   "source": [
    "\n",
    "def Write_CSV():\n",
    "    with open(os.path.join('/Users/sean/mbp_storage/timeStamp/','timeStamping.csv'), 'w', newline='') as csvfile:\n",
    "        writer = csv.writer(csvfile, delimiter=',')\n",
    "        writer.writerow(['File', 'TimeStamp', 'NjordOffset'])\n",
    "        for i in range(len(timeStamps)):\n",
    "\n",
    "            writer.writerow([files[i], str(timeStamps[i]), str(timeDeltas[i].seconds)+'.'+str(timeDeltas[i].microseconds) ])\n",
    "    \n",
    "    csvfile.close()"
   ],
   "metadata": {
    "collapsed": false,
    "ExecuteTime": {
     "end_time": "2024-04-26T20:37:02.494575Z",
     "start_time": "2024-04-26T20:37:02.488502Z"
    }
   },
   "id": "31f68665528679c0",
   "execution_count": 1
  },
  {
   "cell_type": "code",
   "outputs": [],
   "source": [
    "import veeringVideo\n",
    "\n",
    "veeringVideo.TimeStamping('/Users/sean/mbp_storage/timeStamp/').Add_CSV()"
   ],
   "metadata": {
    "collapsed": false,
    "ExecuteTime": {
     "end_time": "2024-04-26T20:37:04.679622Z",
     "start_time": "2024-04-26T20:37:04.186538Z"
    }
   },
   "id": "6ce0fa2f2d1091f6",
   "execution_count": 2
  },
  {
   "cell_type": "code",
   "outputs": [],
   "source": [],
   "metadata": {
    "collapsed": false
   },
   "id": "1a8fdcac4dd64172"
  }
 ],
 "metadata": {
  "kernelspec": {
   "display_name": "Python 3",
   "language": "python",
   "name": "python3"
  },
  "language_info": {
   "codemirror_mode": {
    "name": "ipython",
    "version": 2
   },
   "file_extension": ".py",
   "mimetype": "text/x-python",
   "name": "python",
   "nbconvert_exporter": "python",
   "pygments_lexer": "ipython2",
   "version": "2.7.6"
  }
 },
 "nbformat": 4,
 "nbformat_minor": 5
}
