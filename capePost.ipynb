{
 "cells": [
  {
   "cell_type": "code",
   "id": "1b06eabecb02f376",
   "metadata": {
    "collapsed": true,
    "jupyter": {
     "outputs_hidden": true
    },
    "ExecuteTime": {
     "end_time": "2024-06-23T20:05:54.292575Z",
     "start_time": "2024-06-23T20:05:54.032023Z"
    }
   },
   "source": [
    "## change venv to stripe field\n",
    "import os\n",
    "import veeringVideo\n",
    "import veeringLogs\n",
    "import importlib\n",
    "import threading\n",
    "from IPython.display import clear_output\n",
    "\n",
    "\n"
   ],
   "outputs": [],
   "execution_count": 1
  },
  {
   "metadata": {
    "ExecuteTime": {
     "end_time": "2024-06-23T20:05:55.195323Z",
     "start_time": "2024-06-23T20:05:54.981940Z"
    }
   },
   "cell_type": "code",
   "source": [
    "## define root directory and day - then build folder structure\n",
    "rootDirectory = '/Users/sean/mbp_storage/'\n",
    "year = '24'\n",
    "month = '06'\n",
    "day = '09'\n",
    "dayFolder = year+month+day\n",
    "path_dayFolder = os.path.join(rootDirectory,dayFolder)\n",
    "os.mkdir(path_dayFolder)\n",
    "folders = ['aftFacing', 'fwdFacing', 'portMain', 'stbMain', 'portJib', 'stbJib', 'log']\n",
    "\n",
    "for folder in folders:\n",
    "    os.mkdir(os.path.join(path_dayFolder,folder))"
   ],
   "id": "5cd0f32d0f984dbe",
   "outputs": [
    {
     "ename": "FileExistsError",
     "evalue": "[Errno 17] File exists: '/Users/sean/mbp_storage/240609'",
     "output_type": "error",
     "traceback": [
      "\u001B[0;31m---------------------------------------------------------------------------\u001B[0m",
      "\u001B[0;31mFileExistsError\u001B[0m                           Traceback (most recent call last)",
      "Cell \u001B[0;32mIn[2], line 8\u001B[0m\n\u001B[1;32m      6\u001B[0m dayFolder \u001B[38;5;241m=\u001B[39m year\u001B[38;5;241m+\u001B[39mmonth\u001B[38;5;241m+\u001B[39mday\n\u001B[1;32m      7\u001B[0m path_dayFolder \u001B[38;5;241m=\u001B[39m os\u001B[38;5;241m.\u001B[39mpath\u001B[38;5;241m.\u001B[39mjoin(rootDirectory,dayFolder)\n\u001B[0;32m----> 8\u001B[0m \u001B[43mos\u001B[49m\u001B[38;5;241;43m.\u001B[39;49m\u001B[43mmkdir\u001B[49m\u001B[43m(\u001B[49m\u001B[43mpath_dayFolder\u001B[49m\u001B[43m)\u001B[49m\n\u001B[1;32m      9\u001B[0m folders \u001B[38;5;241m=\u001B[39m [\u001B[38;5;124m'\u001B[39m\u001B[38;5;124maftFacing\u001B[39m\u001B[38;5;124m'\u001B[39m, \u001B[38;5;124m'\u001B[39m\u001B[38;5;124mfwdFacing\u001B[39m\u001B[38;5;124m'\u001B[39m, \u001B[38;5;124m'\u001B[39m\u001B[38;5;124mportMain\u001B[39m\u001B[38;5;124m'\u001B[39m, \u001B[38;5;124m'\u001B[39m\u001B[38;5;124mstbMain\u001B[39m\u001B[38;5;124m'\u001B[39m, \u001B[38;5;124m'\u001B[39m\u001B[38;5;124mportJib\u001B[39m\u001B[38;5;124m'\u001B[39m, \u001B[38;5;124m'\u001B[39m\u001B[38;5;124mstbJib\u001B[39m\u001B[38;5;124m'\u001B[39m, \u001B[38;5;124m'\u001B[39m\u001B[38;5;124mlog\u001B[39m\u001B[38;5;124m'\u001B[39m]\n\u001B[1;32m     11\u001B[0m \u001B[38;5;28;01mfor\u001B[39;00m folder \u001B[38;5;129;01min\u001B[39;00m folders:\n",
      "\u001B[0;31mFileExistsError\u001B[0m: [Errno 17] File exists: '/Users/sean/mbp_storage/240609'"
     ]
    }
   ],
   "execution_count": 2
  },
  {
   "metadata": {
    "ExecuteTime": {
     "end_time": "2024-06-23T20:05:55.846230Z",
     "start_time": "2024-06-23T20:05:55.842984Z"
    }
   },
   "cell_type": "code",
   "source": [
    "days = ''\n",
    "days = [days.join(list(str(year))+list(str(month))+list(str(day)))]\n",
    "\n",
    "def TL_2_JPG(rootDirectory, day, sail, filter):\n",
    "    folder = os.path.join(rootDirectory,day,sail)\n",
    "    for file in os.listdir(folder):\n",
    "        try:\n",
    "            veeringVideo.SailTimeLapse(os.path.join(folder,file),sail).TimeLapse_To_JPG()\n",
    "\n",
    "        except:\n",
    "            print(\"failed on  - \"+str(folder+file))\n",
    "\n",
    "        try:\n",
    "            veeringVideo.Filter_JPG(os.path.join(rootDirectory,day,sail,'jpg'),filter).Remove_Files()\n",
    "\n",
    "        except:\n",
    "            print(\"remove failed on  - \"+str(folder+file))"
   ],
   "id": "ef9180c1270196be",
   "outputs": [],
   "execution_count": 3
  },
  {
   "cell_type": "code",
   "id": "4bf0ab225786a9ec",
   "metadata": {
    "ExecuteTime": {
     "end_time": "2024-06-23T20:05:57.853667Z",
     "start_time": "2024-06-23T20:05:56.751066Z"
    }
   },
   "source": [
    "## before running paste all .mp4's into folders and manually rename dji files\n",
    "# iterate over days and sails and change gopro .mp4 time laps file names to match the format YYYYMMDD_HHMMSS_timestep\n",
    "\n",
    "gpSails = ['portMain', 'stbMain']\n",
    "sails = ['portMain', 'stbMain', 'portJib', 'stbJib']\n",
    "timeStep = 2\n",
    "timeZone = 1\n",
    "for day in days:\n",
    "    for sail in gpSails:\n",
    "        folder = os.path.join(rootDirectory,day,sail)\n",
    "        for file in os.listdir(folder):\n",
    "            try:\n",
    "                veeringVideo.Rename_GP_TimeLapse(os.path.join(folder,file), timeZone, timeStep).Rename()\n",
    "            except:\n",
    "                print(\"failed on - \"+str(folder+file))\n",
    "        try:\n",
    "            log = veeringLogs.VeeringLog(os.path.join(rootDirectory,day,'log/log.csv'))\n",
    "            log.Expedition_To_DF()\n",
    "            log.Select_Variables(['Utc','TWA'])\n",
    "            log.Add_Time_Zone(1)\n",
    "            log.Add_Time_Stamp()\n",
    "            log.Get_Filter_TS(30,60)\n",
    "            filters = [log.upwindPort,log.upwindStb,log.upwindPort, log.upwindStb]\n",
    "            \n",
    "        except:\n",
    "            print(\"Log Failed\")\n",
    "\n",
    "    thrds = []\n",
    "    for i in range(len(sails)):\n",
    "        sail = sails[i]\n",
    "        filter = filters[i]\n",
    "        thrds.append(threading.Thread(target=TL_2_JPG, args=(rootDirectory, day, sail, filter)))\n",
    "\n",
    "    thrds[0].start()\n",
    "    thrds[1].start()\n",
    "    thrds[2].start()\n",
    "    thrds[3].start()\n",
    "    \n",
    "        "
   ],
   "outputs": [
    {
     "name": "stdout",
     "output_type": "stream",
     "text": [
      "remove failed on  - /Users/sean/mbp_storage/240609/portJib.DS_Store\n",
      "remove failed on  - /Users/sean/mbp_storage/240609/stbJib.DS_Store\n"
     ]
    }
   ],
   "execution_count": 4
  },
  {
   "metadata": {
    "ExecuteTime": {
     "end_time": "2024-06-23T20:11:39.296097Z",
     "start_time": "2024-06-23T20:11:39.291413Z"
    }
   },
   "cell_type": "code",
   "source": [
    "runningCheck = []\n",
    "for i in range(len(thrds)):\n",
    "    runningCheck.append(thrds[i].is_alive())\n",
    "any(runningCheck)"
   ],
   "id": "a3029d2a5dcbc4ed",
   "outputs": [
    {
     "data": {
      "text/plain": [
       "False"
      ]
     },
     "execution_count": 14,
     "metadata": {},
     "output_type": "execute_result"
    }
   ],
   "execution_count": 14
  },
  {
   "metadata": {
    "ExecuteTime": {
     "end_time": "2024-06-23T18:40:13.511574Z",
     "start_time": "2024-06-23T18:40:13.508125Z"
    }
   },
   "cell_type": "code",
   "source": [
    "## iterate over days and sails and convert .mp4 time laps to a folder of .jpg. jpg folder is created.            \n",
    "thrds = []\n",
    "for i in range(len(sails)):\n",
    "    sail = sails[i]\n",
    "    filter = filters[i]\n",
    "    thrds.append(threading.Thread(target=TL_2_JPG, args=(rootDirectory, day, sail, filter)))\n",
    "\n",
    "thrds[0].start()\n",
    "thrds[1].start()\n",
    "thrds[2].start()\n",
    "thrds[3].start()\n",
    "\n",
    "\n"
   ],
   "id": "54f49e49991223b",
   "outputs": [],
   "execution_count": 5
  },
  {
   "cell_type": "code",
   "id": "ff3f46e26f6ac88a",
   "metadata": {
    "ExecuteTime": {
     "end_time": "2024-06-23T19:26:57.836676Z",
     "start_time": "2024-06-23T19:26:57.004469Z"
    }
   },
   "source": [
    "sails = ['portMain', 'stbMain', 'portJib', 'stbJib']\n",
    "\n",
    "for day in days:\n",
    "    log = veeringLogs.VeeringLog(os.path.join(rootDirectory,day,'log/log.csv'))\n",
    "    log.Expedition_To_DF()\n",
    "    log.Select_Variables(['Utc','TWA'])\n",
    "    log.Add_Time_Zone(1)\n",
    "    log.Add_Time_Stamp()\n",
    "    log.Get_Filter_TS(30,60)\n",
    "    filters = [log.upwindPort,log.upwindStb,log.upwindPort, log.upwindStb]\n",
    "\n",
    "    for i in range(len(filters)):\n",
    "        sail = sails[i]\n",
    "        filter = filters[i]\n",
    "        try:\n",
    "            veeringVideo.Filter_JPG(os.path.join(rootDirectory,day,sail,'jpg'),filter).Remove_Files()\n",
    "        except:\n",
    "            print(\"fail on file - \"+str(os.path.join(rootDirectory,day,sail,'jpg')))\n"
   ],
   "outputs": [],
   "execution_count": 58
  },
  {
   "metadata": {},
   "cell_type": "code",
   "outputs": [],
   "execution_count": null,
   "source": "",
   "id": "4881598ae1f1ab71"
  }
 ],
 "metadata": {
  "kernelspec": {
   "display_name": "Python 3 (ipykernel)",
   "language": "python",
   "name": "python3"
  },
  "language_info": {
   "codemirror_mode": {
    "name": "ipython",
    "version": 3
   },
   "file_extension": ".py",
   "mimetype": "text/x-python",
   "name": "python",
   "nbconvert_exporter": "python",
   "pygments_lexer": "ipython3",
   "version": "3.10.9"
  }
 },
 "nbformat": 4,
 "nbformat_minor": 5
}
