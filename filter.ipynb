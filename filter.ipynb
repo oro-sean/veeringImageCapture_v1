{
 "cells": [
  {
   "cell_type": "code",
   "outputs": [],
   "source": [
    "import veeringLogs\n",
    "log = veeringLogs.VeeringLog('/Users/sean/mbp_storage/log-2024Apr03.csv')"
   ],
   "metadata": {
    "collapsed": false,
    "ExecuteTime": {
     "end_time": "2024-04-30T04:15:35.270794Z",
     "start_time": "2024-04-30T04:15:35.094585Z"
    }
   },
   "id": "c009e130e6656452",
   "execution_count": 1
  },
  {
   "cell_type": "code",
   "outputs": [],
   "source": [
    "log.Expedition_To_DF()"
   ],
   "metadata": {
    "collapsed": false,
    "ExecuteTime": {
     "end_time": "2024-04-30T04:15:36.411536Z",
     "start_time": "2024-04-30T04:15:35.984350Z"
    }
   },
   "id": "341fe798c96eb20a",
   "execution_count": 2
  },
  {
   "cell_type": "code",
   "outputs": [],
   "source": [
    "log.Expedition_To_DF()\n",
    "log.Select_Variables(['Utc','TWA'])\n",
    "log.Add_Time_Zone(-4)\n",
    "log.Get_Filter_TS(30,60)"
   ],
   "metadata": {
    "collapsed": false,
    "ExecuteTime": {
     "end_time": "2024-04-30T04:15:36.706559Z",
     "start_time": "2024-04-30T04:15:36.702194Z"
    }
   },
   "id": "5358ad4bd8641360",
   "execution_count": 3
  },
  {
   "cell_type": "code",
   "outputs": [],
   "source": [
    "log.Add_Time_Zone(-4)"
   ],
   "metadata": {
    "collapsed": false,
    "ExecuteTime": {
     "end_time": "2024-04-30T04:15:37.249538Z",
     "start_time": "2024-04-30T04:15:37.246737Z"
    }
   },
   "id": "7f861b5746fff5d2",
   "execution_count": 4
  },
  {
   "cell_type": "code",
   "outputs": [],
   "source": [
    "log.Add_Time_Stamp()"
   ],
   "metadata": {
    "collapsed": false,
    "ExecuteTime": {
     "end_time": "2024-04-30T04:15:37.834742Z",
     "start_time": "2024-04-30T04:15:37.817703Z"
    }
   },
   "id": "ce9bae7724e0665c",
   "execution_count": 5
  },
  {
   "cell_type": "code",
   "outputs": [],
   "source": [
    "log.Get_Filter_TS(30,60)"
   ],
   "metadata": {
    "collapsed": false,
    "ExecuteTime": {
     "end_time": "2024-04-30T04:15:38.552576Z",
     "start_time": "2024-04-30T04:15:38.537815Z"
    }
   },
   "id": "6143c19cf486cbed",
   "execution_count": 6
  },
  {
   "cell_type": "code",
   "outputs": [],
   "source": [
    "import piexif\n",
    "import datetime\n",
    "fileTS = piexif.load('/Users/sean/mbp_storage/timeLapse/jpg/0.jpg')['0th'][306]"
   ],
   "metadata": {
    "collapsed": false,
    "ExecuteTime": {
     "end_time": "2024-04-30T04:15:39.303356Z",
     "start_time": "2024-04-30T04:15:39.297325Z"
    }
   },
   "id": "969a063a7af1197e",
   "execution_count": 7
  },
  {
   "cell_type": "code",
   "outputs": [
    {
     "data": {
      "text/plain": "b'2024:4:20 13:8:35'"
     },
     "execution_count": 8,
     "metadata": {},
     "output_type": "execute_result"
    }
   ],
   "source": [
    "fileTS"
   ],
   "metadata": {
    "collapsed": false,
    "ExecuteTime": {
     "end_time": "2024-04-30T04:15:40.302999Z",
     "start_time": "2024-04-30T04:15:40.298528Z"
    }
   },
   "id": "4d076c860b2c25a3",
   "execution_count": 8
  },
  {
   "cell_type": "code",
   "outputs": [],
   "source": [
    "import os\n",
    "files = os.listdir('/Users/sean/mbp_storage/timeLapse/stb/jpg')"
   ],
   "metadata": {
    "collapsed": false,
    "ExecuteTime": {
     "end_time": "2024-04-30T04:15:46.540250Z",
     "start_time": "2024-04-30T04:15:46.535604Z"
    }
   },
   "id": "6e7da0e6d9e9cee",
   "execution_count": 9
  },
  {
   "cell_type": "code",
   "outputs": [],
   "source": [
    "fileTS = []\n",
    "for file in files:\n",
    "    ts = piexif.load(os.path.join('/Users/sean/mbp_storage/timeLapse/stb/jpg/',file))['0th'][306]\n",
    "    ts = datetime.datetime.strptime(ts.decode('UTF-8'), '%Y:%m:%d %H:%M:%S')\n",
    "    fileTS.append(ts)\n",
    "    if ts not in log.upwindStb:\n",
    "        os.remove(os.path.join('/Users/sean/mbp_storage/timeLapse/stb/jpg/',file))"
   ],
   "metadata": {
    "collapsed": false,
    "ExecuteTime": {
     "end_time": "2024-04-30T04:18:06.098437Z",
     "start_time": "2024-04-30T04:18:05.917267Z"
    }
   },
   "id": "fb8f876c25cea483",
   "execution_count": 13
  },
  {
   "cell_type": "code",
   "outputs": [
    {
     "data": {
      "text/plain": "datetime.datetime(2024, 4, 20, 13, 11, 44)"
     },
     "execution_count": 11,
     "metadata": {},
     "output_type": "execute_result"
    }
   ],
   "source": [
    "fileTS[0]"
   ],
   "metadata": {
    "collapsed": false,
    "ExecuteTime": {
     "end_time": "2024-04-30T04:15:50.529341Z",
     "start_time": "2024-04-30T04:15:50.525988Z"
    }
   },
   "id": "62db7a985bc5fdc2",
   "execution_count": 11
  },
  {
   "cell_type": "code",
   "outputs": [
    {
     "data": {
      "text/plain": "pandas._libs.tslibs.timestamps.Timestamp"
     },
     "execution_count": 42,
     "metadata": {},
     "output_type": "execute_result"
    }
   ],
   "source": [
    "type(log.upwindStb[0])\n"
   ],
   "metadata": {
    "collapsed": false,
    "ExecuteTime": {
     "end_time": "2024-04-30T02:50:56.372624Z",
     "start_time": "2024-04-30T02:50:56.370394Z"
    }
   },
   "id": "7a814abd02bc465f",
   "execution_count": 42
  },
  {
   "cell_type": "code",
   "outputs": [
    {
     "data": {
      "text/plain": "datetime.datetime(2024, 4, 3, 9, 43, 9)"
     },
     "execution_count": 44,
     "metadata": {},
     "output_type": "execute_result"
    }
   ],
   "source": [
    "log.upwindStb[0].to_pydatetime().replace(microsecond=0)"
   ],
   "metadata": {
    "collapsed": false,
    "ExecuteTime": {
     "end_time": "2024-04-30T02:54:36.467593Z",
     "start_time": "2024-04-30T02:54:36.463856Z"
    }
   },
   "id": "a2ffee6a0eefc0f3",
   "execution_count": 44
  },
  {
   "cell_type": "code",
   "outputs": [
    {
     "ename": "AttributeError",
     "evalue": "'list' object has no attribute 'to_pydatetime'",
     "output_type": "error",
     "traceback": [
      "\u001B[0;31m---------------------------------------------------------------------------\u001B[0m",
      "\u001B[0;31mAttributeError\u001B[0m                            Traceback (most recent call last)",
      "Cell \u001B[0;32mIn[46], line 1\u001B[0m\n\u001B[0;32m----> 1\u001B[0m \u001B[43mlog\u001B[49m\u001B[38;5;241;43m.\u001B[39;49m\u001B[43mupwindStb\u001B[49m\u001B[38;5;241;43m.\u001B[39;49m\u001B[43mto_pydatetime\u001B[49m()\u001B[38;5;241m.\u001B[39mreplace(microsecond\u001B[38;5;241m=\u001B[39m\u001B[38;5;241m0\u001B[39m)\n",
      "\u001B[0;31mAttributeError\u001B[0m: 'list' object has no attribute 'to_pydatetime'"
     ]
    }
   ],
   "source": [
    "log.upwindStb.to_pydatetime().replace(microsecond=0)"
   ],
   "metadata": {
    "collapsed": false,
    "ExecuteTime": {
     "end_time": "2024-04-30T02:56:09.832232Z",
     "start_time": "2024-04-30T02:56:09.821363Z"
    }
   },
   "id": "184a6f25096502b6",
   "execution_count": 46
  },
  {
   "cell_type": "code",
   "outputs": [
    {
     "data": {
      "text/plain": "[datetime.datetime(2024, 4, 3, 9, 43, 9),\n datetime.datetime(2024, 4, 3, 9, 43, 10),\n datetime.datetime(2024, 4, 3, 9, 43, 11),\n datetime.datetime(2024, 4, 3, 9, 43, 12),\n datetime.datetime(2024, 4, 3, 9, 43, 13),\n datetime.datetime(2024, 4, 3, 9, 44, 42),\n datetime.datetime(2024, 4, 3, 9, 44, 43),\n datetime.datetime(2024, 4, 3, 9, 44, 44),\n datetime.datetime(2024, 4, 3, 9, 44, 45),\n datetime.datetime(2024, 4, 3, 9, 44, 46),\n datetime.datetime(2024, 4, 3, 9, 44, 47),\n datetime.datetime(2024, 4, 3, 9, 44, 48),\n datetime.datetime(2024, 4, 3, 9, 44, 49),\n datetime.datetime(2024, 4, 3, 9, 44, 50),\n datetime.datetime(2024, 4, 3, 9, 44, 51),\n datetime.datetime(2024, 4, 3, 9, 44, 52),\n datetime.datetime(2024, 4, 3, 9, 44, 53),\n datetime.datetime(2024, 4, 3, 9, 44, 54),\n datetime.datetime(2024, 4, 3, 9, 44, 55),\n datetime.datetime(2024, 4, 3, 9, 44, 57),\n datetime.datetime(2024, 4, 3, 9, 44, 58),\n datetime.datetime(2024, 4, 3, 9, 44, 58),\n datetime.datetime(2024, 4, 3, 9, 44, 59),\n datetime.datetime(2024, 4, 3, 9, 45, 1),\n datetime.datetime(2024, 4, 3, 9, 45, 2),\n datetime.datetime(2024, 4, 3, 9, 45, 3),\n datetime.datetime(2024, 4, 3, 9, 45, 4),\n datetime.datetime(2024, 4, 3, 9, 45, 5),\n datetime.datetime(2024, 4, 3, 9, 45, 6),\n datetime.datetime(2024, 4, 3, 9, 45, 7),\n datetime.datetime(2024, 4, 3, 9, 45, 8),\n datetime.datetime(2024, 4, 3, 9, 45, 9),\n datetime.datetime(2024, 4, 3, 9, 45, 10),\n datetime.datetime(2024, 4, 3, 9, 45, 11),\n datetime.datetime(2024, 4, 3, 9, 45, 12),\n datetime.datetime(2024, 4, 3, 9, 45, 13),\n datetime.datetime(2024, 4, 3, 9, 45, 14),\n datetime.datetime(2024, 4, 3, 9, 45, 15),\n datetime.datetime(2024, 4, 3, 9, 45, 16),\n datetime.datetime(2024, 4, 3, 9, 45, 17),\n datetime.datetime(2024, 4, 3, 9, 45, 18),\n datetime.datetime(2024, 4, 3, 9, 45, 19),\n datetime.datetime(2024, 4, 3, 9, 45, 20),\n datetime.datetime(2024, 4, 3, 9, 45, 21),\n datetime.datetime(2024, 4, 3, 9, 45, 22),\n datetime.datetime(2024, 4, 3, 9, 45, 23),\n datetime.datetime(2024, 4, 3, 9, 45, 24),\n datetime.datetime(2024, 4, 3, 9, 45, 25),\n datetime.datetime(2024, 4, 3, 9, 45, 26),\n datetime.datetime(2024, 4, 3, 9, 45, 27),\n datetime.datetime(2024, 4, 3, 9, 45, 28),\n datetime.datetime(2024, 4, 3, 9, 45, 29),\n datetime.datetime(2024, 4, 3, 9, 45, 30),\n datetime.datetime(2024, 4, 3, 9, 45, 31),\n datetime.datetime(2024, 4, 3, 9, 45, 32),\n datetime.datetime(2024, 4, 3, 9, 45, 33),\n datetime.datetime(2024, 4, 3, 9, 45, 34),\n datetime.datetime(2024, 4, 3, 9, 45, 35),\n datetime.datetime(2024, 4, 3, 9, 45, 36),\n datetime.datetime(2024, 4, 3, 9, 45, 37),\n datetime.datetime(2024, 4, 3, 9, 45, 38),\n datetime.datetime(2024, 4, 3, 9, 45, 39),\n datetime.datetime(2024, 4, 3, 9, 45, 40),\n datetime.datetime(2024, 4, 3, 9, 45, 41),\n datetime.datetime(2024, 4, 3, 9, 45, 42),\n datetime.datetime(2024, 4, 3, 9, 45, 43),\n datetime.datetime(2024, 4, 3, 9, 45, 44),\n datetime.datetime(2024, 4, 3, 9, 45, 45),\n datetime.datetime(2024, 4, 3, 9, 45, 46),\n datetime.datetime(2024, 4, 3, 9, 45, 47),\n datetime.datetime(2024, 4, 3, 9, 45, 49),\n datetime.datetime(2024, 4, 3, 9, 45, 50),\n datetime.datetime(2024, 4, 3, 9, 45, 51),\n datetime.datetime(2024, 4, 3, 9, 45, 52),\n datetime.datetime(2024, 4, 3, 9, 45, 53),\n datetime.datetime(2024, 4, 3, 9, 45, 54),\n datetime.datetime(2024, 4, 3, 9, 45, 55),\n datetime.datetime(2024, 4, 3, 9, 45, 56),\n datetime.datetime(2024, 4, 3, 9, 45, 57),\n datetime.datetime(2024, 4, 3, 9, 45, 58),\n datetime.datetime(2024, 4, 3, 9, 45, 59),\n datetime.datetime(2024, 4, 3, 9, 46),\n datetime.datetime(2024, 4, 3, 9, 46, 1),\n datetime.datetime(2024, 4, 3, 9, 46, 2),\n datetime.datetime(2024, 4, 3, 9, 46, 3),\n datetime.datetime(2024, 4, 3, 9, 46, 4),\n datetime.datetime(2024, 4, 3, 9, 46, 5),\n datetime.datetime(2024, 4, 3, 9, 46, 6),\n datetime.datetime(2024, 4, 3, 9, 46, 7),\n datetime.datetime(2024, 4, 3, 9, 46, 8),\n datetime.datetime(2024, 4, 3, 9, 46, 9),\n datetime.datetime(2024, 4, 3, 9, 46, 10),\n datetime.datetime(2024, 4, 3, 9, 46, 11),\n datetime.datetime(2024, 4, 3, 9, 46, 12),\n datetime.datetime(2024, 4, 3, 9, 46, 13),\n datetime.datetime(2024, 4, 3, 9, 46, 14),\n datetime.datetime(2024, 4, 3, 9, 46, 15),\n datetime.datetime(2024, 4, 3, 9, 46, 16),\n datetime.datetime(2024, 4, 3, 9, 46, 17),\n datetime.datetime(2024, 4, 3, 9, 46, 18),\n datetime.datetime(2024, 4, 3, 9, 46, 19),\n datetime.datetime(2024, 4, 3, 9, 46, 20),\n datetime.datetime(2024, 4, 3, 9, 46, 21),\n datetime.datetime(2024, 4, 3, 9, 46, 22),\n datetime.datetime(2024, 4, 3, 9, 46, 23),\n datetime.datetime(2024, 4, 3, 9, 46, 24),\n datetime.datetime(2024, 4, 3, 9, 46, 25),\n datetime.datetime(2024, 4, 3, 9, 46, 26),\n datetime.datetime(2024, 4, 3, 9, 46, 27),\n datetime.datetime(2024, 4, 3, 9, 46, 28),\n datetime.datetime(2024, 4, 3, 9, 46, 29),\n datetime.datetime(2024, 4, 3, 9, 46, 30),\n datetime.datetime(2024, 4, 3, 9, 46, 31),\n datetime.datetime(2024, 4, 3, 9, 46, 32),\n datetime.datetime(2024, 4, 3, 9, 46, 33),\n datetime.datetime(2024, 4, 3, 9, 46, 34),\n datetime.datetime(2024, 4, 3, 9, 46, 35),\n datetime.datetime(2024, 4, 3, 9, 46, 36),\n datetime.datetime(2024, 4, 3, 9, 46, 37),\n datetime.datetime(2024, 4, 3, 9, 46, 38),\n datetime.datetime(2024, 4, 3, 9, 46, 39),\n datetime.datetime(2024, 4, 3, 9, 46, 40),\n datetime.datetime(2024, 4, 3, 9, 46, 41),\n datetime.datetime(2024, 4, 3, 9, 46, 43),\n datetime.datetime(2024, 4, 3, 9, 46, 43),\n datetime.datetime(2024, 4, 3, 9, 46, 44),\n datetime.datetime(2024, 4, 3, 9, 46, 45),\n datetime.datetime(2024, 4, 3, 9, 46, 46),\n datetime.datetime(2024, 4, 3, 9, 46, 48),\n datetime.datetime(2024, 4, 3, 9, 46, 48),\n datetime.datetime(2024, 4, 3, 9, 46, 50),\n datetime.datetime(2024, 4, 3, 9, 46, 51),\n datetime.datetime(2024, 4, 3, 9, 46, 52),\n datetime.datetime(2024, 4, 3, 9, 46, 52),\n datetime.datetime(2024, 4, 3, 9, 46, 53),\n datetime.datetime(2024, 4, 3, 9, 46, 55),\n datetime.datetime(2024, 4, 3, 9, 46, 56),\n datetime.datetime(2024, 4, 3, 9, 46, 57),\n datetime.datetime(2024, 4, 3, 9, 46, 58),\n datetime.datetime(2024, 4, 3, 9, 46, 59),\n datetime.datetime(2024, 4, 3, 9, 47),\n datetime.datetime(2024, 4, 3, 9, 47, 1),\n datetime.datetime(2024, 4, 3, 9, 47, 2),\n datetime.datetime(2024, 4, 3, 9, 47, 3),\n datetime.datetime(2024, 4, 3, 9, 47, 4),\n datetime.datetime(2024, 4, 3, 9, 47, 5),\n datetime.datetime(2024, 4, 3, 9, 47, 6),\n datetime.datetime(2024, 4, 3, 9, 47, 7),\n datetime.datetime(2024, 4, 3, 9, 47, 8),\n datetime.datetime(2024, 4, 3, 9, 47, 9),\n datetime.datetime(2024, 4, 3, 9, 47, 10),\n datetime.datetime(2024, 4, 3, 9, 47, 11),\n datetime.datetime(2024, 4, 3, 9, 47, 12),\n datetime.datetime(2024, 4, 3, 9, 47, 13),\n datetime.datetime(2024, 4, 3, 9, 47, 14),\n datetime.datetime(2024, 4, 3, 9, 47, 15),\n datetime.datetime(2024, 4, 3, 9, 47, 16),\n datetime.datetime(2024, 4, 3, 9, 47, 17),\n datetime.datetime(2024, 4, 3, 9, 47, 18),\n datetime.datetime(2024, 4, 3, 9, 47, 19),\n datetime.datetime(2024, 4, 3, 9, 47, 20),\n datetime.datetime(2024, 4, 3, 9, 47, 21),\n datetime.datetime(2024, 4, 3, 9, 47, 22),\n datetime.datetime(2024, 4, 3, 9, 47, 23),\n datetime.datetime(2024, 4, 3, 9, 47, 24),\n datetime.datetime(2024, 4, 3, 9, 47, 25),\n datetime.datetime(2024, 4, 3, 9, 47, 26),\n datetime.datetime(2024, 4, 3, 9, 47, 27),\n datetime.datetime(2024, 4, 3, 9, 47, 28),\n datetime.datetime(2024, 4, 3, 9, 47, 29),\n datetime.datetime(2024, 4, 3, 9, 47, 30),\n datetime.datetime(2024, 4, 3, 9, 47, 31),\n datetime.datetime(2024, 4, 3, 9, 47, 32),\n datetime.datetime(2024, 4, 3, 9, 47, 33),\n datetime.datetime(2024, 4, 3, 9, 47, 34),\n datetime.datetime(2024, 4, 3, 9, 47, 35),\n datetime.datetime(2024, 4, 3, 9, 47, 36),\n datetime.datetime(2024, 4, 3, 9, 47, 37),\n datetime.datetime(2024, 4, 3, 9, 47, 38),\n datetime.datetime(2024, 4, 3, 9, 47, 39),\n datetime.datetime(2024, 4, 3, 9, 47, 40),\n datetime.datetime(2024, 4, 3, 9, 47, 41),\n datetime.datetime(2024, 4, 3, 9, 47, 42),\n datetime.datetime(2024, 4, 3, 9, 47, 44),\n datetime.datetime(2024, 4, 3, 9, 47, 45),\n datetime.datetime(2024, 4, 3, 9, 47, 46),\n datetime.datetime(2024, 4, 3, 9, 47, 47),\n datetime.datetime(2024, 4, 3, 9, 47, 48),\n datetime.datetime(2024, 4, 3, 9, 47, 49),\n datetime.datetime(2024, 4, 3, 9, 47, 50),\n datetime.datetime(2024, 4, 3, 9, 47, 51),\n datetime.datetime(2024, 4, 3, 9, 47, 52),\n datetime.datetime(2024, 4, 3, 9, 47, 53),\n datetime.datetime(2024, 4, 3, 9, 47, 54),\n datetime.datetime(2024, 4, 3, 9, 47, 55),\n datetime.datetime(2024, 4, 3, 9, 47, 56),\n datetime.datetime(2024, 4, 3, 9, 47, 57),\n datetime.datetime(2024, 4, 3, 9, 47, 58),\n datetime.datetime(2024, 4, 3, 9, 47, 59),\n datetime.datetime(2024, 4, 3, 9, 48),\n datetime.datetime(2024, 4, 3, 9, 48, 1),\n datetime.datetime(2024, 4, 3, 9, 48, 2),\n datetime.datetime(2024, 4, 3, 9, 48, 3),\n datetime.datetime(2024, 4, 3, 9, 48, 4),\n datetime.datetime(2024, 4, 3, 9, 48, 5),\n datetime.datetime(2024, 4, 3, 9, 48, 6),\n datetime.datetime(2024, 4, 3, 9, 48, 7),\n datetime.datetime(2024, 4, 3, 9, 48, 8),\n datetime.datetime(2024, 4, 3, 9, 48, 9),\n datetime.datetime(2024, 4, 3, 9, 48, 10),\n datetime.datetime(2024, 4, 3, 9, 48, 11),\n datetime.datetime(2024, 4, 3, 9, 48, 12),\n datetime.datetime(2024, 4, 3, 9, 48, 13),\n datetime.datetime(2024, 4, 3, 9, 48, 14),\n datetime.datetime(2024, 4, 3, 9, 48, 15),\n datetime.datetime(2024, 4, 3, 9, 48, 16),\n datetime.datetime(2024, 4, 3, 9, 48, 17),\n datetime.datetime(2024, 4, 3, 9, 48, 18),\n datetime.datetime(2024, 4, 3, 9, 48, 19),\n datetime.datetime(2024, 4, 3, 9, 48, 20),\n datetime.datetime(2024, 4, 3, 9, 48, 21),\n datetime.datetime(2024, 4, 3, 9, 48, 22),\n datetime.datetime(2024, 4, 3, 9, 48, 23),\n datetime.datetime(2024, 4, 3, 9, 48, 24),\n datetime.datetime(2024, 4, 3, 9, 48, 25),\n datetime.datetime(2024, 4, 3, 9, 48, 26),\n datetime.datetime(2024, 4, 3, 9, 48, 27),\n datetime.datetime(2024, 4, 3, 9, 48, 28),\n datetime.datetime(2024, 4, 3, 9, 48, 29),\n datetime.datetime(2024, 4, 3, 9, 48, 30),\n datetime.datetime(2024, 4, 3, 9, 48, 31),\n datetime.datetime(2024, 4, 3, 9, 48, 32),\n datetime.datetime(2024, 4, 3, 9, 48, 33),\n datetime.datetime(2024, 4, 3, 9, 48, 34),\n datetime.datetime(2024, 4, 3, 9, 48, 36),\n datetime.datetime(2024, 4, 3, 9, 48, 37),\n datetime.datetime(2024, 4, 3, 9, 48, 38),\n datetime.datetime(2024, 4, 3, 9, 48, 39),\n datetime.datetime(2024, 4, 3, 9, 48, 40),\n datetime.datetime(2024, 4, 3, 9, 48, 41),\n datetime.datetime(2024, 4, 3, 9, 48, 42),\n datetime.datetime(2024, 4, 3, 9, 48, 43),\n datetime.datetime(2024, 4, 3, 9, 48, 44),\n datetime.datetime(2024, 4, 3, 9, 48, 45),\n datetime.datetime(2024, 4, 3, 9, 48, 46),\n datetime.datetime(2024, 4, 3, 9, 48, 47),\n datetime.datetime(2024, 4, 3, 9, 48, 48),\n datetime.datetime(2024, 4, 3, 9, 48, 49),\n datetime.datetime(2024, 4, 3, 9, 48, 50),\n datetime.datetime(2024, 4, 3, 9, 48, 51),\n datetime.datetime(2024, 4, 3, 9, 48, 52),\n datetime.datetime(2024, 4, 3, 9, 48, 53),\n datetime.datetime(2024, 4, 3, 9, 48, 54),\n datetime.datetime(2024, 4, 3, 9, 48, 55),\n datetime.datetime(2024, 4, 3, 9, 48, 56),\n datetime.datetime(2024, 4, 3, 9, 48, 57),\n datetime.datetime(2024, 4, 3, 9, 48, 58),\n datetime.datetime(2024, 4, 3, 9, 48, 59),\n datetime.datetime(2024, 4, 3, 9, 49),\n datetime.datetime(2024, 4, 3, 9, 49, 1),\n datetime.datetime(2024, 4, 3, 9, 49, 2),\n datetime.datetime(2024, 4, 3, 9, 49, 3),\n datetime.datetime(2024, 4, 3, 9, 49, 4),\n datetime.datetime(2024, 4, 3, 9, 49, 5),\n datetime.datetime(2024, 4, 3, 9, 49, 6),\n datetime.datetime(2024, 4, 3, 9, 49, 7),\n datetime.datetime(2024, 4, 3, 9, 49, 8),\n datetime.datetime(2024, 4, 3, 9, 49, 9),\n datetime.datetime(2024, 4, 3, 9, 49, 10),\n datetime.datetime(2024, 4, 3, 9, 49, 11),\n datetime.datetime(2024, 4, 3, 9, 49, 12),\n datetime.datetime(2024, 4, 3, 9, 49, 13),\n datetime.datetime(2024, 4, 3, 9, 49, 14),\n datetime.datetime(2024, 4, 3, 9, 49, 15),\n datetime.datetime(2024, 4, 3, 9, 49, 16),\n datetime.datetime(2024, 4, 3, 9, 49, 17),\n datetime.datetime(2024, 4, 3, 9, 49, 18),\n datetime.datetime(2024, 4, 3, 9, 49, 19),\n datetime.datetime(2024, 4, 3, 9, 49, 20),\n datetime.datetime(2024, 4, 3, 9, 49, 21),\n datetime.datetime(2024, 4, 3, 9, 49, 22),\n datetime.datetime(2024, 4, 3, 9, 49, 23),\n datetime.datetime(2024, 4, 3, 9, 49, 25),\n datetime.datetime(2024, 4, 3, 9, 49, 26),\n datetime.datetime(2024, 4, 3, 9, 49, 27),\n datetime.datetime(2024, 4, 3, 9, 49, 28),\n datetime.datetime(2024, 4, 3, 9, 49, 28),\n datetime.datetime(2024, 4, 3, 9, 49, 30),\n datetime.datetime(2024, 4, 3, 9, 49, 31),\n datetime.datetime(2024, 4, 3, 9, 49, 32),\n datetime.datetime(2024, 4, 3, 9, 49, 33),\n datetime.datetime(2024, 4, 3, 9, 49, 34),\n datetime.datetime(2024, 4, 3, 9, 49, 35),\n datetime.datetime(2024, 4, 3, 9, 49, 36),\n datetime.datetime(2024, 4, 3, 9, 49, 37),\n datetime.datetime(2024, 4, 3, 9, 55, 43),\n datetime.datetime(2024, 4, 3, 9, 55, 44),\n datetime.datetime(2024, 4, 3, 9, 55, 45),\n datetime.datetime(2024, 4, 3, 9, 55, 46),\n datetime.datetime(2024, 4, 3, 9, 55, 47),\n datetime.datetime(2024, 4, 3, 9, 55, 48),\n datetime.datetime(2024, 4, 3, 9, 55, 49),\n datetime.datetime(2024, 4, 3, 9, 55, 50),\n datetime.datetime(2024, 4, 3, 9, 55, 51),\n datetime.datetime(2024, 4, 3, 9, 55, 52),\n datetime.datetime(2024, 4, 3, 9, 55, 53),\n datetime.datetime(2024, 4, 3, 9, 55, 54),\n datetime.datetime(2024, 4, 3, 9, 55, 55),\n datetime.datetime(2024, 4, 3, 9, 55, 56),\n datetime.datetime(2024, 4, 3, 9, 55, 57),\n datetime.datetime(2024, 4, 3, 9, 55, 58),\n datetime.datetime(2024, 4, 3, 9, 55, 59),\n datetime.datetime(2024, 4, 3, 9, 56),\n datetime.datetime(2024, 4, 3, 9, 56, 1),\n datetime.datetime(2024, 4, 3, 9, 56, 2),\n datetime.datetime(2024, 4, 3, 9, 56, 3),\n datetime.datetime(2024, 4, 3, 9, 56, 4),\n datetime.datetime(2024, 4, 3, 9, 56, 6),\n datetime.datetime(2024, 4, 3, 9, 56, 6),\n datetime.datetime(2024, 4, 3, 9, 56, 7),\n datetime.datetime(2024, 4, 3, 9, 56, 9),\n datetime.datetime(2024, 4, 3, 9, 56, 10),\n datetime.datetime(2024, 4, 3, 9, 56, 11),\n datetime.datetime(2024, 4, 3, 9, 56, 12),\n datetime.datetime(2024, 4, 3, 9, 56, 13),\n datetime.datetime(2024, 4, 3, 9, 56, 14),\n datetime.datetime(2024, 4, 3, 9, 56, 15),\n datetime.datetime(2024, 4, 3, 9, 56, 16),\n datetime.datetime(2024, 4, 3, 9, 56, 17),\n datetime.datetime(2024, 4, 3, 9, 56, 18),\n datetime.datetime(2024, 4, 3, 9, 56, 19),\n datetime.datetime(2024, 4, 3, 9, 56, 20),\n datetime.datetime(2024, 4, 3, 9, 56, 21),\n datetime.datetime(2024, 4, 3, 9, 56, 22),\n datetime.datetime(2024, 4, 3, 9, 56, 23),\n datetime.datetime(2024, 4, 3, 9, 56, 24),\n datetime.datetime(2024, 4, 3, 9, 56, 25),\n datetime.datetime(2024, 4, 3, 9, 56, 26),\n datetime.datetime(2024, 4, 3, 9, 56, 27),\n datetime.datetime(2024, 4, 3, 9, 56, 28),\n datetime.datetime(2024, 4, 3, 9, 56, 29),\n datetime.datetime(2024, 4, 3, 9, 56, 30),\n datetime.datetime(2024, 4, 3, 9, 56, 31),\n datetime.datetime(2024, 4, 3, 9, 56, 32),\n datetime.datetime(2024, 4, 3, 9, 56, 33),\n datetime.datetime(2024, 4, 3, 9, 56, 34),\n datetime.datetime(2024, 4, 3, 9, 56, 35),\n datetime.datetime(2024, 4, 3, 9, 56, 36),\n datetime.datetime(2024, 4, 3, 9, 56, 37),\n datetime.datetime(2024, 4, 3, 9, 56, 38),\n datetime.datetime(2024, 4, 3, 9, 56, 39),\n datetime.datetime(2024, 4, 3, 9, 56, 40),\n datetime.datetime(2024, 4, 3, 9, 56, 41),\n datetime.datetime(2024, 4, 3, 9, 56, 42),\n datetime.datetime(2024, 4, 3, 9, 56, 43),\n datetime.datetime(2024, 4, 3, 9, 56, 44),\n datetime.datetime(2024, 4, 3, 9, 56, 45),\n datetime.datetime(2024, 4, 3, 9, 56, 46),\n datetime.datetime(2024, 4, 3, 9, 56, 47),\n datetime.datetime(2024, 4, 3, 9, 56, 48),\n datetime.datetime(2024, 4, 3, 9, 56, 49),\n datetime.datetime(2024, 4, 3, 9, 56, 50),\n datetime.datetime(2024, 4, 3, 9, 56, 51),\n datetime.datetime(2024, 4, 3, 9, 56, 52),\n datetime.datetime(2024, 4, 3, 9, 56, 53),\n datetime.datetime(2024, 4, 3, 9, 56, 54),\n datetime.datetime(2024, 4, 3, 9, 56, 56),\n datetime.datetime(2024, 4, 3, 9, 56, 56),\n datetime.datetime(2024, 4, 3, 9, 56, 58),\n datetime.datetime(2024, 4, 3, 9, 56, 58),\n datetime.datetime(2024, 4, 3, 9, 57),\n datetime.datetime(2024, 4, 3, 9, 57, 1),\n datetime.datetime(2024, 4, 3, 9, 57, 2),\n datetime.datetime(2024, 4, 3, 9, 57, 3),\n datetime.datetime(2024, 4, 3, 9, 57, 4),\n datetime.datetime(2024, 4, 3, 9, 57, 5),\n datetime.datetime(2024, 4, 3, 9, 57, 6),\n datetime.datetime(2024, 4, 3, 9, 57, 7),\n datetime.datetime(2024, 4, 3, 9, 57, 8),\n datetime.datetime(2024, 4, 3, 9, 57, 9),\n datetime.datetime(2024, 4, 3, 9, 57, 10),\n datetime.datetime(2024, 4, 3, 9, 57, 11),\n datetime.datetime(2024, 4, 3, 9, 57, 12),\n datetime.datetime(2024, 4, 3, 9, 57, 13),\n datetime.datetime(2024, 4, 3, 9, 57, 14),\n datetime.datetime(2024, 4, 3, 9, 57, 15),\n datetime.datetime(2024, 4, 3, 9, 57, 16),\n datetime.datetime(2024, 4, 3, 9, 57, 17),\n datetime.datetime(2024, 4, 3, 9, 57, 18),\n datetime.datetime(2024, 4, 3, 9, 57, 19),\n datetime.datetime(2024, 4, 3, 9, 57, 20),\n datetime.datetime(2024, 4, 3, 10, 17, 44),\n datetime.datetime(2024, 4, 3, 10, 17, 45),\n datetime.datetime(2024, 4, 3, 10, 17, 57),\n datetime.datetime(2024, 4, 3, 10, 17, 58),\n datetime.datetime(2024, 4, 3, 10, 22, 18),\n datetime.datetime(2024, 4, 3, 10, 22, 19),\n datetime.datetime(2024, 4, 3, 10, 22, 20),\n datetime.datetime(2024, 4, 3, 10, 22, 21),\n datetime.datetime(2024, 4, 3, 10, 22, 22),\n datetime.datetime(2024, 4, 3, 10, 22, 23),\n datetime.datetime(2024, 4, 3, 10, 22, 24),\n datetime.datetime(2024, 4, 3, 10, 23, 31),\n datetime.datetime(2024, 4, 3, 10, 23, 32),\n datetime.datetime(2024, 4, 3, 10, 23, 33),\n datetime.datetime(2024, 4, 3, 10, 23, 34),\n datetime.datetime(2024, 4, 3, 10, 23, 35),\n datetime.datetime(2024, 4, 3, 10, 23, 38),\n datetime.datetime(2024, 4, 3, 10, 23, 39),\n datetime.datetime(2024, 4, 3, 10, 23, 40),\n datetime.datetime(2024, 4, 3, 10, 23, 41),\n datetime.datetime(2024, 4, 3, 10, 23, 42),\n datetime.datetime(2024, 4, 3, 10, 23, 43),\n datetime.datetime(2024, 4, 3, 10, 23, 44),\n datetime.datetime(2024, 4, 3, 10, 23, 45),\n datetime.datetime(2024, 4, 3, 10, 23, 46),\n datetime.datetime(2024, 4, 3, 10, 23, 47),\n datetime.datetime(2024, 4, 3, 10, 23, 48),\n datetime.datetime(2024, 4, 3, 10, 23, 49),\n datetime.datetime(2024, 4, 3, 10, 23, 50),\n datetime.datetime(2024, 4, 3, 10, 23, 51),\n datetime.datetime(2024, 4, 3, 10, 23, 52),\n datetime.datetime(2024, 4, 3, 10, 24, 3),\n datetime.datetime(2024, 4, 3, 10, 24, 4),\n datetime.datetime(2024, 4, 3, 10, 24, 5),\n datetime.datetime(2024, 4, 3, 10, 24, 13),\n datetime.datetime(2024, 4, 3, 10, 24, 15),\n datetime.datetime(2024, 4, 3, 10, 24, 16),\n datetime.datetime(2024, 4, 3, 10, 24, 17),\n datetime.datetime(2024, 4, 3, 10, 24, 18),\n datetime.datetime(2024, 4, 3, 10, 24, 19),\n datetime.datetime(2024, 4, 3, 10, 24, 20),\n datetime.datetime(2024, 4, 3, 10, 24, 21),\n datetime.datetime(2024, 4, 3, 10, 24, 22),\n datetime.datetime(2024, 4, 3, 10, 24, 23),\n datetime.datetime(2024, 4, 3, 10, 24, 24),\n datetime.datetime(2024, 4, 3, 10, 24, 25),\n datetime.datetime(2024, 4, 3, 10, 24, 42),\n datetime.datetime(2024, 4, 3, 10, 24, 43),\n datetime.datetime(2024, 4, 3, 10, 24, 44),\n datetime.datetime(2024, 4, 3, 10, 24, 45),\n datetime.datetime(2024, 4, 3, 10, 24, 46),\n datetime.datetime(2024, 4, 3, 10, 24, 47),\n datetime.datetime(2024, 4, 3, 10, 24, 48),\n datetime.datetime(2024, 4, 3, 10, 24, 49),\n datetime.datetime(2024, 4, 3, 10, 24, 56),\n datetime.datetime(2024, 4, 3, 10, 24, 57),\n datetime.datetime(2024, 4, 3, 10, 24, 58),\n datetime.datetime(2024, 4, 3, 10, 24, 59),\n datetime.datetime(2024, 4, 3, 10, 25),\n datetime.datetime(2024, 4, 3, 10, 25, 2),\n datetime.datetime(2024, 4, 3, 10, 25, 3),\n datetime.datetime(2024, 4, 3, 10, 25, 4),\n datetime.datetime(2024, 4, 3, 10, 25, 5),\n datetime.datetime(2024, 4, 3, 10, 25, 6),\n datetime.datetime(2024, 4, 3, 10, 25, 7),\n datetime.datetime(2024, 4, 3, 10, 25, 8),\n datetime.datetime(2024, 4, 3, 10, 25, 9),\n datetime.datetime(2024, 4, 3, 10, 25, 10),\n datetime.datetime(2024, 4, 3, 10, 25, 11),\n datetime.datetime(2024, 4, 3, 10, 25, 12),\n datetime.datetime(2024, 4, 3, 10, 25, 13),\n datetime.datetime(2024, 4, 3, 10, 25, 14),\n datetime.datetime(2024, 4, 3, 10, 25, 15),\n datetime.datetime(2024, 4, 3, 10, 25, 16),\n datetime.datetime(2024, 4, 3, 10, 25, 17),\n datetime.datetime(2024, 4, 3, 10, 25, 18),\n datetime.datetime(2024, 4, 3, 10, 25, 19),\n datetime.datetime(2024, 4, 3, 10, 25, 20),\n datetime.datetime(2024, 4, 3, 10, 25, 21),\n datetime.datetime(2024, 4, 3, 10, 25, 22),\n datetime.datetime(2024, 4, 3, 10, 25, 23),\n datetime.datetime(2024, 4, 3, 10, 25, 24),\n datetime.datetime(2024, 4, 3, 10, 25, 25),\n datetime.datetime(2024, 4, 3, 10, 25, 26),\n datetime.datetime(2024, 4, 3, 10, 25, 27),\n datetime.datetime(2024, 4, 3, 10, 25, 28),\n datetime.datetime(2024, 4, 3, 10, 25, 29),\n datetime.datetime(2024, 4, 3, 10, 25, 30),\n datetime.datetime(2024, 4, 3, 10, 25, 31),\n datetime.datetime(2024, 4, 3, 10, 26, 25),\n datetime.datetime(2024, 4, 3, 10, 26, 26),\n datetime.datetime(2024, 4, 3, 10, 26, 27),\n datetime.datetime(2024, 4, 3, 10, 26, 28),\n datetime.datetime(2024, 4, 3, 10, 26, 29),\n datetime.datetime(2024, 4, 3, 10, 26, 30),\n datetime.datetime(2024, 4, 3, 10, 26, 31),\n datetime.datetime(2024, 4, 3, 10, 26, 32),\n datetime.datetime(2024, 4, 3, 10, 26, 33),\n datetime.datetime(2024, 4, 3, 10, 26, 34),\n datetime.datetime(2024, 4, 3, 10, 26, 35),\n datetime.datetime(2024, 4, 3, 10, 26, 38),\n datetime.datetime(2024, 4, 3, 10, 26, 39),\n datetime.datetime(2024, 4, 3, 10, 26, 40),\n datetime.datetime(2024, 4, 3, 10, 26, 41),\n datetime.datetime(2024, 4, 3, 10, 26, 43),\n datetime.datetime(2024, 4, 3, 10, 26, 43),\n datetime.datetime(2024, 4, 3, 10, 26, 45),\n datetime.datetime(2024, 4, 3, 10, 26, 46),\n datetime.datetime(2024, 4, 3, 10, 26, 47),\n datetime.datetime(2024, 4, 3, 10, 26, 48),\n datetime.datetime(2024, 4, 3, 10, 26, 49),\n datetime.datetime(2024, 4, 3, 10, 26, 50),\n datetime.datetime(2024, 4, 3, 10, 26, 51),\n datetime.datetime(2024, 4, 3, 10, 26, 52),\n datetime.datetime(2024, 4, 3, 10, 26, 53),\n datetime.datetime(2024, 4, 3, 10, 26, 54),\n datetime.datetime(2024, 4, 3, 10, 26, 55),\n datetime.datetime(2024, 4, 3, 10, 26, 56),\n datetime.datetime(2024, 4, 3, 10, 26, 57),\n datetime.datetime(2024, 4, 3, 10, 26, 58),\n datetime.datetime(2024, 4, 3, 10, 26, 59),\n datetime.datetime(2024, 4, 3, 10, 27),\n datetime.datetime(2024, 4, 3, 10, 27, 1),\n datetime.datetime(2024, 4, 3, 10, 27, 2),\n datetime.datetime(2024, 4, 3, 10, 27, 3),\n datetime.datetime(2024, 4, 3, 10, 27, 4),\n datetime.datetime(2024, 4, 3, 10, 27, 5),\n datetime.datetime(2024, 4, 3, 10, 27, 6),\n datetime.datetime(2024, 4, 3, 10, 27, 7),\n datetime.datetime(2024, 4, 3, 10, 27, 8),\n datetime.datetime(2024, 4, 3, 10, 27, 9),\n datetime.datetime(2024, 4, 3, 10, 27, 10),\n datetime.datetime(2024, 4, 3, 10, 27, 11),\n datetime.datetime(2024, 4, 3, 10, 27, 12),\n datetime.datetime(2024, 4, 3, 10, 27, 13),\n datetime.datetime(2024, 4, 3, 10, 27, 14),\n datetime.datetime(2024, 4, 3, 10, 27, 15),\n datetime.datetime(2024, 4, 3, 10, 27, 16),\n datetime.datetime(2024, 4, 3, 10, 27, 17),\n datetime.datetime(2024, 4, 3, 10, 27, 18),\n datetime.datetime(2024, 4, 3, 10, 27, 19),\n datetime.datetime(2024, 4, 3, 10, 27, 20),\n datetime.datetime(2024, 4, 3, 10, 27, 21),\n datetime.datetime(2024, 4, 3, 10, 27, 22),\n datetime.datetime(2024, 4, 3, 10, 27, 23),\n datetime.datetime(2024, 4, 3, 10, 27, 24),\n datetime.datetime(2024, 4, 3, 10, 27, 25),\n datetime.datetime(2024, 4, 3, 10, 27, 27),\n datetime.datetime(2024, 4, 3, 10, 27, 28),\n datetime.datetime(2024, 4, 3, 10, 27, 29),\n datetime.datetime(2024, 4, 3, 10, 27, 30),\n datetime.datetime(2024, 4, 3, 10, 27, 31),\n datetime.datetime(2024, 4, 3, 10, 27, 32),\n datetime.datetime(2024, 4, 3, 10, 27, 33),\n datetime.datetime(2024, 4, 3, 10, 27, 34),\n datetime.datetime(2024, 4, 3, 10, 27, 35),\n datetime.datetime(2024, 4, 3, 10, 27, 36),\n datetime.datetime(2024, 4, 3, 10, 27, 37),\n datetime.datetime(2024, 4, 3, 10, 27, 38),\n datetime.datetime(2024, 4, 3, 10, 27, 39),\n datetime.datetime(2024, 4, 3, 10, 27, 40),\n datetime.datetime(2024, 4, 3, 10, 27, 41),\n datetime.datetime(2024, 4, 3, 10, 27, 42),\n datetime.datetime(2024, 4, 3, 10, 27, 43),\n datetime.datetime(2024, 4, 3, 10, 27, 44),\n datetime.datetime(2024, 4, 3, 10, 27, 45),\n datetime.datetime(2024, 4, 3, 10, 27, 46),\n datetime.datetime(2024, 4, 3, 10, 27, 47),\n datetime.datetime(2024, 4, 3, 10, 27, 48),\n datetime.datetime(2024, 4, 3, 10, 27, 49),\n datetime.datetime(2024, 4, 3, 10, 27, 50),\n datetime.datetime(2024, 4, 3, 10, 27, 51),\n datetime.datetime(2024, 4, 3, 10, 27, 52),\n datetime.datetime(2024, 4, 3, 10, 27, 53),\n datetime.datetime(2024, 4, 3, 10, 27, 54),\n datetime.datetime(2024, 4, 3, 10, 27, 55),\n datetime.datetime(2024, 4, 3, 10, 27, 56),\n datetime.datetime(2024, 4, 3, 10, 27, 57),\n datetime.datetime(2024, 4, 3, 10, 27, 58),\n datetime.datetime(2024, 4, 3, 10, 27, 59),\n datetime.datetime(2024, 4, 3, 10, 28),\n datetime.datetime(2024, 4, 3, 10, 28, 1),\n datetime.datetime(2024, 4, 3, 10, 28, 2),\n datetime.datetime(2024, 4, 3, 10, 28, 3),\n datetime.datetime(2024, 4, 3, 10, 28, 4),\n datetime.datetime(2024, 4, 3, 10, 28, 5),\n datetime.datetime(2024, 4, 3, 10, 28, 6),\n datetime.datetime(2024, 4, 3, 10, 28, 7),\n datetime.datetime(2024, 4, 3, 10, 28, 8),\n datetime.datetime(2024, 4, 3, 10, 28, 9),\n datetime.datetime(2024, 4, 3, 10, 28, 10),\n datetime.datetime(2024, 4, 3, 10, 28, 11),\n datetime.datetime(2024, 4, 3, 10, 28, 12),\n datetime.datetime(2024, 4, 3, 10, 28, 13),\n datetime.datetime(2024, 4, 3, 10, 28, 14),\n datetime.datetime(2024, 4, 3, 10, 28, 15),\n datetime.datetime(2024, 4, 3, 10, 28, 16),\n datetime.datetime(2024, 4, 3, 10, 28, 17),\n datetime.datetime(2024, 4, 3, 10, 28, 18),\n datetime.datetime(2024, 4, 3, 10, 28, 19),\n datetime.datetime(2024, 4, 3, 10, 28, 20),\n datetime.datetime(2024, 4, 3, 10, 28, 21),\n datetime.datetime(2024, 4, 3, 10, 28, 22),\n datetime.datetime(2024, 4, 3, 10, 28, 23),\n datetime.datetime(2024, 4, 3, 10, 28, 24),\n datetime.datetime(2024, 4, 3, 10, 28, 25),\n datetime.datetime(2024, 4, 3, 10, 28, 26),\n datetime.datetime(2024, 4, 3, 10, 28, 27),\n datetime.datetime(2024, 4, 3, 10, 28, 28),\n datetime.datetime(2024, 4, 3, 10, 28, 29),\n datetime.datetime(2024, 4, 3, 10, 28, 31),\n datetime.datetime(2024, 4, 3, 10, 28, 31),\n datetime.datetime(2024, 4, 3, 10, 28, 33),\n datetime.datetime(2024, 4, 3, 10, 28, 34),\n datetime.datetime(2024, 4, 3, 10, 28, 35),\n datetime.datetime(2024, 4, 3, 10, 28, 36),\n datetime.datetime(2024, 4, 3, 10, 28, 36),\n datetime.datetime(2024, 4, 3, 10, 28, 38),\n datetime.datetime(2024, 4, 3, 10, 28, 39),\n datetime.datetime(2024, 4, 3, 10, 28, 40),\n datetime.datetime(2024, 4, 3, 10, 28, 41),\n datetime.datetime(2024, 4, 3, 10, 28, 42),\n datetime.datetime(2024, 4, 3, 10, 28, 43),\n datetime.datetime(2024, 4, 3, 10, 28, 44),\n datetime.datetime(2024, 4, 3, 10, 28, 45),\n datetime.datetime(2024, 4, 3, 10, 28, 46),\n datetime.datetime(2024, 4, 3, 10, 28, 47),\n datetime.datetime(2024, 4, 3, 10, 28, 48),\n datetime.datetime(2024, 4, 3, 10, 28, 49),\n datetime.datetime(2024, 4, 3, 10, 28, 50),\n datetime.datetime(2024, 4, 3, 10, 28, 51),\n datetime.datetime(2024, 4, 3, 10, 28, 52),\n datetime.datetime(2024, 4, 3, 10, 28, 53),\n datetime.datetime(2024, 4, 3, 10, 28, 54),\n datetime.datetime(2024, 4, 3, 10, 28, 55),\n datetime.datetime(2024, 4, 3, 10, 28, 56),\n datetime.datetime(2024, 4, 3, 10, 28, 57),\n datetime.datetime(2024, 4, 3, 10, 28, 58),\n datetime.datetime(2024, 4, 3, 10, 28, 59),\n datetime.datetime(2024, 4, 3, 10, 29),\n datetime.datetime(2024, 4, 3, 10, 29, 1),\n datetime.datetime(2024, 4, 3, 10, 29, 2),\n datetime.datetime(2024, 4, 3, 10, 29, 3),\n datetime.datetime(2024, 4, 3, 10, 29, 4),\n datetime.datetime(2024, 4, 3, 10, 29, 5),\n datetime.datetime(2024, 4, 3, 10, 29, 6),\n datetime.datetime(2024, 4, 3, 10, 29, 7),\n datetime.datetime(2024, 4, 3, 10, 29, 8),\n datetime.datetime(2024, 4, 3, 10, 29, 9),\n datetime.datetime(2024, 4, 3, 10, 29, 10),\n datetime.datetime(2024, 4, 3, 10, 29, 11),\n datetime.datetime(2024, 4, 3, 10, 29, 12),\n datetime.datetime(2024, 4, 3, 10, 29, 13),\n datetime.datetime(2024, 4, 3, 10, 29, 14),\n datetime.datetime(2024, 4, 3, 10, 29, 15),\n datetime.datetime(2024, 4, 3, 10, 29, 16),\n datetime.datetime(2024, 4, 3, 10, 29, 17),\n datetime.datetime(2024, 4, 3, 10, 29, 18),\n datetime.datetime(2024, 4, 3, 10, 29, 19),\n datetime.datetime(2024, 4, 3, 10, 29, 20),\n datetime.datetime(2024, 4, 3, 10, 29, 22),\n datetime.datetime(2024, 4, 3, 10, 29, 23),\n datetime.datetime(2024, 4, 3, 10, 29, 24),\n datetime.datetime(2024, 4, 3, 10, 29, 25),\n datetime.datetime(2024, 4, 3, 10, 29, 26),\n datetime.datetime(2024, 4, 3, 10, 29, 27),\n datetime.datetime(2024, 4, 3, 10, 29, 28),\n datetime.datetime(2024, 4, 3, 10, 29, 29),\n datetime.datetime(2024, 4, 3, 10, 29, 30),\n datetime.datetime(2024, 4, 3, 10, 29, 31),\n datetime.datetime(2024, 4, 3, 10, 29, 32),\n datetime.datetime(2024, 4, 3, 10, 29, 33),\n datetime.datetime(2024, 4, 3, 10, 29, 34),\n datetime.datetime(2024, 4, 3, 10, 29, 35),\n datetime.datetime(2024, 4, 3, 10, 29, 36),\n datetime.datetime(2024, 4, 3, 10, 29, 37),\n datetime.datetime(2024, 4, 3, 10, 29, 38),\n datetime.datetime(2024, 4, 3, 10, 29, 39),\n datetime.datetime(2024, 4, 3, 10, 29, 40),\n datetime.datetime(2024, 4, 3, 10, 29, 41),\n datetime.datetime(2024, 4, 3, 10, 29, 42),\n datetime.datetime(2024, 4, 3, 10, 29, 43),\n datetime.datetime(2024, 4, 3, 10, 29, 44),\n datetime.datetime(2024, 4, 3, 10, 29, 45),\n datetime.datetime(2024, 4, 3, 10, 29, 46),\n datetime.datetime(2024, 4, 3, 10, 29, 47),\n datetime.datetime(2024, 4, 3, 10, 29, 48),\n datetime.datetime(2024, 4, 3, 10, 29, 49),\n datetime.datetime(2024, 4, 3, 10, 29, 50),\n datetime.datetime(2024, 4, 3, 10, 29, 51),\n datetime.datetime(2024, 4, 3, 10, 29, 52),\n datetime.datetime(2024, 4, 3, 10, 29, 53),\n datetime.datetime(2024, 4, 3, 10, 29, 54),\n datetime.datetime(2024, 4, 3, 10, 29, 55),\n datetime.datetime(2024, 4, 3, 10, 29, 56),\n datetime.datetime(2024, 4, 3, 10, 29, 57),\n datetime.datetime(2024, 4, 3, 10, 29, 58),\n datetime.datetime(2024, 4, 3, 10, 29, 59),\n datetime.datetime(2024, 4, 3, 10, 30),\n datetime.datetime(2024, 4, 3, 10, 30, 1),\n datetime.datetime(2024, 4, 3, 10, 30, 2),\n datetime.datetime(2024, 4, 3, 10, 30, 3),\n datetime.datetime(2024, 4, 3, 10, 30, 4),\n datetime.datetime(2024, 4, 3, 10, 30, 5),\n datetime.datetime(2024, 4, 3, 10, 30, 6),\n datetime.datetime(2024, 4, 3, 10, 30, 7),\n datetime.datetime(2024, 4, 3, 10, 30, 8),\n datetime.datetime(2024, 4, 3, 10, 30, 10),\n datetime.datetime(2024, 4, 3, 10, 30, 11),\n datetime.datetime(2024, 4, 3, 10, 30, 12),\n datetime.datetime(2024, 4, 3, 10, 30, 13),\n datetime.datetime(2024, 4, 3, 10, 30, 14),\n datetime.datetime(2024, 4, 3, 10, 30, 15),\n datetime.datetime(2024, 4, 3, 10, 30, 16),\n datetime.datetime(2024, 4, 3, 10, 30, 17),\n datetime.datetime(2024, 4, 3, 10, 30, 18),\n datetime.datetime(2024, 4, 3, 10, 30, 19),\n datetime.datetime(2024, 4, 3, 10, 30, 20),\n datetime.datetime(2024, 4, 3, 10, 30, 21),\n datetime.datetime(2024, 4, 3, 10, 30, 22),\n datetime.datetime(2024, 4, 3, 10, 30, 23),\n datetime.datetime(2024, 4, 3, 10, 30, 24),\n datetime.datetime(2024, 4, 3, 10, 30, 25),\n datetime.datetime(2024, 4, 3, 10, 30, 26),\n datetime.datetime(2024, 4, 3, 10, 30, 27),\n datetime.datetime(2024, 4, 3, 10, 30, 28),\n datetime.datetime(2024, 4, 3, 10, 30, 29),\n datetime.datetime(2024, 4, 3, 10, 30, 30),\n datetime.datetime(2024, 4, 3, 10, 30, 31),\n datetime.datetime(2024, 4, 3, 10, 30, 32),\n datetime.datetime(2024, 4, 3, 10, 30, 33),\n datetime.datetime(2024, 4, 3, 10, 30, 34),\n datetime.datetime(2024, 4, 3, 10, 30, 35),\n datetime.datetime(2024, 4, 3, 10, 30, 36),\n datetime.datetime(2024, 4, 3, 10, 30, 37),\n datetime.datetime(2024, 4, 3, 10, 30, 38),\n datetime.datetime(2024, 4, 3, 10, 30, 39),\n datetime.datetime(2024, 4, 3, 10, 30, 40),\n datetime.datetime(2024, 4, 3, 10, 30, 41),\n datetime.datetime(2024, 4, 3, 10, 30, 42),\n datetime.datetime(2024, 4, 3, 10, 30, 43),\n datetime.datetime(2024, 4, 3, 10, 30, 44),\n datetime.datetime(2024, 4, 3, 10, 30, 45),\n datetime.datetime(2024, 4, 3, 10, 30, 46),\n datetime.datetime(2024, 4, 3, 10, 30, 47),\n datetime.datetime(2024, 4, 3, 10, 30, 48),\n datetime.datetime(2024, 4, 3, 10, 30, 49),\n datetime.datetime(2024, 4, 3, 10, 30, 50),\n datetime.datetime(2024, 4, 3, 10, 30, 51),\n datetime.datetime(2024, 4, 3, 10, 30, 52),\n datetime.datetime(2024, 4, 3, 10, 30, 53),\n datetime.datetime(2024, 4, 3, 10, 30, 54),\n datetime.datetime(2024, 4, 3, 10, 30, 55),\n datetime.datetime(2024, 4, 3, 10, 30, 56),\n datetime.datetime(2024, 4, 3, 10, 30, 58),\n datetime.datetime(2024, 4, 3, 10, 30, 59),\n datetime.datetime(2024, 4, 3, 10, 30, 59),\n datetime.datetime(2024, 4, 3, 10, 31, 1),\n datetime.datetime(2024, 4, 3, 10, 31, 2),\n datetime.datetime(2024, 4, 3, 10, 31, 3),\n datetime.datetime(2024, 4, 3, 10, 31, 4),\n datetime.datetime(2024, 4, 3, 10, 31, 5),\n datetime.datetime(2024, 4, 3, 10, 31, 6),\n datetime.datetime(2024, 4, 3, 10, 31, 7),\n datetime.datetime(2024, 4, 3, 10, 31, 8),\n datetime.datetime(2024, 4, 3, 10, 31, 9),\n datetime.datetime(2024, 4, 3, 10, 31, 10),\n datetime.datetime(2024, 4, 3, 10, 31, 11),\n datetime.datetime(2024, 4, 3, 10, 31, 12),\n datetime.datetime(2024, 4, 3, 10, 31, 13),\n datetime.datetime(2024, 4, 3, 10, 31, 14),\n datetime.datetime(2024, 4, 3, 10, 31, 15),\n datetime.datetime(2024, 4, 3, 10, 31, 16),\n datetime.datetime(2024, 4, 3, 10, 31, 17),\n datetime.datetime(2024, 4, 3, 10, 31, 18),\n datetime.datetime(2024, 4, 3, 10, 31, 19),\n datetime.datetime(2024, 4, 3, 10, 31, 20),\n datetime.datetime(2024, 4, 3, 10, 31, 21),\n datetime.datetime(2024, 4, 3, 10, 31, 22),\n datetime.datetime(2024, 4, 3, 10, 31, 23),\n datetime.datetime(2024, 4, 3, 10, 31, 24),\n datetime.datetime(2024, 4, 3, 10, 31, 25),\n datetime.datetime(2024, 4, 3, 10, 31, 26),\n datetime.datetime(2024, 4, 3, 10, 31, 27),\n datetime.datetime(2024, 4, 3, 10, 31, 28),\n datetime.datetime(2024, 4, 3, 10, 31, 29),\n datetime.datetime(2024, 4, 3, 10, 31, 30),\n datetime.datetime(2024, 4, 3, 10, 31, 31),\n datetime.datetime(2024, 4, 3, 10, 31, 32),\n datetime.datetime(2024, 4, 3, 10, 31, 33),\n datetime.datetime(2024, 4, 3, 10, 31, 34),\n datetime.datetime(2024, 4, 3, 10, 31, 35),\n datetime.datetime(2024, 4, 3, 10, 31, 36),\n datetime.datetime(2024, 4, 3, 10, 31, 37),\n datetime.datetime(2024, 4, 3, 10, 31, 38),\n datetime.datetime(2024, 4, 3, 10, 31, 39),\n datetime.datetime(2024, 4, 3, 10, 31, 40),\n datetime.datetime(2024, 4, 3, 10, 31, 41),\n datetime.datetime(2024, 4, 3, 10, 31, 42),\n datetime.datetime(2024, 4, 3, 10, 31, 43),\n datetime.datetime(2024, 4, 3, 10, 31, 44),\n datetime.datetime(2024, 4, 3, 10, 31, 45),\n datetime.datetime(2024, 4, 3, 10, 31, 46),\n datetime.datetime(2024, 4, 3, 10, 31, 48),\n datetime.datetime(2024, 4, 3, 10, 31, 48),\n datetime.datetime(2024, 4, 3, 10, 31, 50),\n datetime.datetime(2024, 4, 3, 10, 31, 51),\n datetime.datetime(2024, 4, 3, 10, 31, 52),\n datetime.datetime(2024, 4, 3, 10, 31, 53),\n datetime.datetime(2024, 4, 3, 10, 31, 54),\n datetime.datetime(2024, 4, 3, 10, 31, 55),\n datetime.datetime(2024, 4, 3, 10, 31, 56),\n datetime.datetime(2024, 4, 3, 10, 31, 57),\n datetime.datetime(2024, 4, 3, 10, 31, 58),\n datetime.datetime(2024, 4, 3, 10, 31, 59),\n datetime.datetime(2024, 4, 3, 10, 32),\n datetime.datetime(2024, 4, 3, 10, 32, 1),\n datetime.datetime(2024, 4, 3, 10, 32, 2),\n datetime.datetime(2024, 4, 3, 10, 32, 3),\n datetime.datetime(2024, 4, 3, 10, 32, 4),\n datetime.datetime(2024, 4, 3, 10, 32, 5),\n datetime.datetime(2024, 4, 3, 10, 32, 6),\n datetime.datetime(2024, 4, 3, 10, 32, 7),\n datetime.datetime(2024, 4, 3, 10, 32, 8),\n datetime.datetime(2024, 4, 3, 10, 32, 9),\n datetime.datetime(2024, 4, 3, 10, 32, 10),\n datetime.datetime(2024, 4, 3, 10, 32, 11),\n datetime.datetime(2024, 4, 3, 10, 32, 12),\n datetime.datetime(2024, 4, 3, 10, 32, 13),\n datetime.datetime(2024, 4, 3, 10, 32, 14),\n datetime.datetime(2024, 4, 3, 10, 32, 15),\n datetime.datetime(2024, 4, 3, 10, 32, 16),\n datetime.datetime(2024, 4, 3, 10, 32, 17),\n datetime.datetime(2024, 4, 3, 10, 32, 18),\n datetime.datetime(2024, 4, 3, 10, 32, 19),\n datetime.datetime(2024, 4, 3, 10, 32, 20),\n datetime.datetime(2024, 4, 3, 10, 32, 21),\n datetime.datetime(2024, 4, 3, 10, 32, 22),\n datetime.datetime(2024, 4, 3, 10, 32, 23),\n datetime.datetime(2024, 4, 3, 10, 32, 24),\n datetime.datetime(2024, 4, 3, 10, 32, 25),\n datetime.datetime(2024, 4, 3, 10, 32, 26),\n datetime.datetime(2024, 4, 3, 10, 32, 27),\n datetime.datetime(2024, 4, 3, 10, 32, 28),\n datetime.datetime(2024, 4, 3, 10, 32, 29),\n datetime.datetime(2024, 4, 3, 10, 32, 30),\n datetime.datetime(2024, 4, 3, 10, 32, 32),\n datetime.datetime(2024, 4, 3, 10, 32, 33),\n datetime.datetime(2024, 4, 3, 10, 32, 33),\n datetime.datetime(2024, 4, 3, 10, 32, 35),\n datetime.datetime(2024, 4, 3, 10, 32, 35),\n datetime.datetime(2024, 4, 3, 10, 32, 37),\n datetime.datetime(2024, 4, 3, 10, 32, 38),\n datetime.datetime(2024, 4, 3, 10, 32, 39),\n datetime.datetime(2024, 4, 3, 10, 32, 40),\n datetime.datetime(2024, 4, 3, 10, 32, 41),\n datetime.datetime(2024, 4, 3, 10, 32, 42),\n datetime.datetime(2024, 4, 3, 10, 32, 43),\n datetime.datetime(2024, 4, 3, 10, 32, 44),\n datetime.datetime(2024, 4, 3, 10, 32, 45),\n datetime.datetime(2024, 4, 3, 10, 32, 46),\n datetime.datetime(2024, 4, 3, 10, 32, 47),\n datetime.datetime(2024, 4, 3, 10, 32, 48),\n datetime.datetime(2024, 4, 3, 10, 32, 49),\n datetime.datetime(2024, 4, 3, 10, 32, 50),\n datetime.datetime(2024, 4, 3, 10, 32, 51),\n datetime.datetime(2024, 4, 3, 10, 32, 52),\n datetime.datetime(2024, 4, 3, 10, 32, 53),\n datetime.datetime(2024, 4, 3, 10, 32, 54),\n datetime.datetime(2024, 4, 3, 10, 32, 55),\n datetime.datetime(2024, 4, 3, 10, 32, 56),\n datetime.datetime(2024, 4, 3, 10, 32, 57),\n datetime.datetime(2024, 4, 3, 10, 32, 58),\n datetime.datetime(2024, 4, 3, 10, 32, 59),\n datetime.datetime(2024, 4, 3, 10, 33),\n datetime.datetime(2024, 4, 3, 10, 33, 1),\n datetime.datetime(2024, 4, 3, 10, 33, 2),\n datetime.datetime(2024, 4, 3, 10, 33, 3),\n datetime.datetime(2024, 4, 3, 10, 33, 4),\n datetime.datetime(2024, 4, 3, 10, 33, 5),\n datetime.datetime(2024, 4, 3, 10, 33, 6),\n datetime.datetime(2024, 4, 3, 10, 33, 7),\n datetime.datetime(2024, 4, 3, 10, 33, 8),\n datetime.datetime(2024, 4, 3, 10, 33, 9),\n datetime.datetime(2024, 4, 3, 10, 33, 10),\n datetime.datetime(2024, 4, 3, 10, 33, 11),\n datetime.datetime(2024, 4, 3, 10, 33, 12),\n datetime.datetime(2024, 4, 3, 10, 33, 13),\n datetime.datetime(2024, 4, 3, 10, 33, 14),\n datetime.datetime(2024, 4, 3, 10, 33, 15),\n datetime.datetime(2024, 4, 3, 10, 33, 16),\n datetime.datetime(2024, 4, 3, 10, 33, 17),\n datetime.datetime(2024, 4, 3, 10, 33, 19),\n datetime.datetime(2024, 4, 3, 10, 33, 20),\n datetime.datetime(2024, 4, 3, 10, 33, 20),\n datetime.datetime(2024, 4, 3, 10, 33, 22),\n datetime.datetime(2024, 4, 3, 10, 33, 23),\n datetime.datetime(2024, 4, 3, 10, 33, 24),\n datetime.datetime(2024, 4, 3, 10, 33, 25),\n datetime.datetime(2024, 4, 3, 10, 33, 26),\n datetime.datetime(2024, 4, 3, 10, 33, 27),\n datetime.datetime(2024, 4, 3, 10, 33, 28),\n datetime.datetime(2024, 4, 3, 10, 33, 29),\n datetime.datetime(2024, 4, 3, 10, 33, 30),\n datetime.datetime(2024, 4, 3, 10, 33, 31),\n datetime.datetime(2024, 4, 3, 10, 33, 32),\n datetime.datetime(2024, 4, 3, 10, 33, 33),\n datetime.datetime(2024, 4, 3, 10, 33, 34),\n datetime.datetime(2024, 4, 3, 10, 33, 35),\n datetime.datetime(2024, 4, 3, 10, 33, 36),\n datetime.datetime(2024, 4, 3, 10, 33, 37),\n datetime.datetime(2024, 4, 3, 10, 33, 38),\n datetime.datetime(2024, 4, 3, 10, 33, 39),\n datetime.datetime(2024, 4, 3, 10, 33, 40),\n datetime.datetime(2024, 4, 3, 10, 33, 41),\n datetime.datetime(2024, 4, 3, 10, 33, 42),\n datetime.datetime(2024, 4, 3, 10, 33, 43),\n datetime.datetime(2024, 4, 3, 10, 33, 44),\n datetime.datetime(2024, 4, 3, 10, 33, 45),\n datetime.datetime(2024, 4, 3, 10, 33, 46),\n datetime.datetime(2024, 4, 3, 10, 33, 47),\n datetime.datetime(2024, 4, 3, 10, 33, 48),\n datetime.datetime(2024, 4, 3, 10, 33, 49),\n datetime.datetime(2024, 4, 3, 10, 33, 50),\n datetime.datetime(2024, 4, 3, 10, 33, 51),\n datetime.datetime(2024, 4, 3, 10, 33, 52),\n datetime.datetime(2024, 4, 3, 10, 33, 53),\n datetime.datetime(2024, 4, 3, 10, 33, 54),\n datetime.datetime(2024, 4, 3, 10, 33, 55),\n datetime.datetime(2024, 4, 3, 10, 33, 56),\n datetime.datetime(2024, 4, 3, 10, 33, 57),\n datetime.datetime(2024, 4, 3, 10, 33, 58),\n datetime.datetime(2024, 4, 3, 10, 33, 59),\n datetime.datetime(2024, 4, 3, 10, 34),\n datetime.datetime(2024, 4, 3, 10, 52, 9),\n datetime.datetime(2024, 4, 3, 10, 52, 10),\n datetime.datetime(2024, 4, 3, 10, 52, 11),\n datetime.datetime(2024, 4, 3, 10, 52, 12),\n datetime.datetime(2024, 4, 3, 10, 52, 13),\n datetime.datetime(2024, 4, 3, 10, 52, 14),\n datetime.datetime(2024, 4, 3, 10, 52, 15),\n datetime.datetime(2024, 4, 3, 10, 52, 16),\n datetime.datetime(2024, 4, 3, 10, 52, 17),\n datetime.datetime(2024, 4, 3, 10, 52, 18),\n datetime.datetime(2024, 4, 3, 10, 52, 19),\n datetime.datetime(2024, 4, 3, 10, 52, 20),\n datetime.datetime(2024, 4, 3, 10, 52, 21),\n datetime.datetime(2024, 4, 3, 10, 52, 22),\n datetime.datetime(2024, 4, 3, 10, 52, 23),\n datetime.datetime(2024, 4, 3, 10, 52, 24),\n datetime.datetime(2024, 4, 3, 10, 52, 25),\n datetime.datetime(2024, 4, 3, 10, 52, 26),\n datetime.datetime(2024, 4, 3, 10, 52, 27),\n datetime.datetime(2024, 4, 3, 10, 52, 28),\n datetime.datetime(2024, 4, 3, 10, 52, 29),\n datetime.datetime(2024, 4, 3, 10, 52, 30),\n datetime.datetime(2024, 4, 3, 10, 52, 31),\n datetime.datetime(2024, 4, 3, 10, 52, 32),\n datetime.datetime(2024, 4, 3, 10, 52, 34),\n datetime.datetime(2024, 4, 3, 10, 52, 35),\n datetime.datetime(2024, 4, 3, 10, 52, 36),\n datetime.datetime(2024, 4, 3, 10, 52, 37),\n datetime.datetime(2024, 4, 3, 10, 52, 38),\n datetime.datetime(2024, 4, 3, 10, 52, 39),\n datetime.datetime(2024, 4, 3, 10, 52, 40),\n datetime.datetime(2024, 4, 3, 10, 52, 41),\n datetime.datetime(2024, 4, 3, 10, 52, 42),\n datetime.datetime(2024, 4, 3, 10, 52, 43),\n datetime.datetime(2024, 4, 3, 10, 52, 44),\n datetime.datetime(2024, 4, 3, 10, 52, 45),\n datetime.datetime(2024, 4, 3, 10, 52, 46),\n datetime.datetime(2024, 4, 3, 10, 52, 47),\n datetime.datetime(2024, 4, 3, 10, 52, 48),\n datetime.datetime(2024, 4, 3, 10, 52, 49),\n datetime.datetime(2024, 4, 3, 10, 52, 50),\n datetime.datetime(2024, 4, 3, 10, 52, 51),\n datetime.datetime(2024, 4, 3, 10, 52, 52),\n datetime.datetime(2024, 4, 3, 10, 52, 53),\n datetime.datetime(2024, 4, 3, 10, 52, 54),\n datetime.datetime(2024, 4, 3, 10, 52, 55),\n datetime.datetime(2024, 4, 3, 10, 52, 56),\n datetime.datetime(2024, 4, 3, 10, 52, 57),\n datetime.datetime(2024, 4, 3, 10, 52, 58),\n datetime.datetime(2024, 4, 3, 10, 52, 59),\n datetime.datetime(2024, 4, 3, 10, 53),\n datetime.datetime(2024, 4, 3, 10, 53, 1),\n datetime.datetime(2024, 4, 3, 10, 53, 2),\n datetime.datetime(2024, 4, 3, 10, 53, 3),\n datetime.datetime(2024, 4, 3, 10, 53, 4),\n datetime.datetime(2024, 4, 3, 10, 53, 5),\n datetime.datetime(2024, 4, 3, 10, 53, 6),\n datetime.datetime(2024, 4, 3, 10, 53, 7),\n datetime.datetime(2024, 4, 3, 10, 53, 8),\n datetime.datetime(2024, 4, 3, 10, 53, 9),\n datetime.datetime(2024, 4, 3, 10, 53, 10),\n datetime.datetime(2024, 4, 3, 10, 53, 11),\n datetime.datetime(2024, 4, 3, 10, 53, 12),\n datetime.datetime(2024, 4, 3, 10, 53, 13),\n datetime.datetime(2024, 4, 3, 10, 53, 14),\n datetime.datetime(2024, 4, 3, 11, 7, 15),\n datetime.datetime(2024, 4, 3, 11, 7, 16),\n datetime.datetime(2024, 4, 3, 11, 7, 17),\n datetime.datetime(2024, 4, 3, 11, 7, 18),\n datetime.datetime(2024, 4, 3, 11, 7, 19),\n datetime.datetime(2024, 4, 3, 11, 7, 20),\n datetime.datetime(2024, 4, 3, 11, 7, 21),\n datetime.datetime(2024, 4, 3, 11, 7, 22),\n datetime.datetime(2024, 4, 3, 11, 7, 23),\n datetime.datetime(2024, 4, 3, 11, 7, 24),\n ...]"
     },
     "execution_count": 7,
     "metadata": {},
     "output_type": "execute_result"
    }
   ],
   "source": [],
   "metadata": {
    "collapsed": false,
    "ExecuteTime": {
     "end_time": "2024-04-30T02:58:40.970941Z",
     "start_time": "2024-04-30T02:58:40.960830Z"
    }
   },
   "id": "799436bc459b137",
   "execution_count": 7
  },
  {
   "cell_type": "code",
   "outputs": [],
   "source": [
    "from PIL import Image"
   ],
   "metadata": {
    "collapsed": false,
    "ExecuteTime": {
     "end_time": "2024-04-30T04:50:17.170493Z",
     "start_time": "2024-04-30T04:50:17.140100Z"
    }
   },
   "id": "c648117e126772bb",
   "execution_count": 14
  },
  {
   "cell_type": "code",
   "outputs": [],
   "source": [
    "image = Image.open('/Users/sean/mbp_storage/timeLapse/stb/jpg/214.jpg')\n",
    "\n"
   ],
   "metadata": {
    "collapsed": false,
    "ExecuteTime": {
     "end_time": "2024-04-30T04:51:49.954908Z",
     "start_time": "2024-04-30T04:51:49.939816Z"
    }
   },
   "id": "7b01e0b1f499fa5d",
   "execution_count": 16
  },
  {
   "cell_type": "code",
   "outputs": [
    {
     "data": {
      "text/plain": "'2024:4:3 9:44:53'"
     },
     "execution_count": 19,
     "metadata": {},
     "output_type": "execute_result"
    }
   ],
   "source": [
    "image._getexif()[306]"
   ],
   "metadata": {
    "collapsed": false,
    "ExecuteTime": {
     "end_time": "2024-04-30T04:52:44.112659Z",
     "start_time": "2024-04-30T04:52:44.109678Z"
    }
   },
   "id": "363fea5d311f6bae",
   "execution_count": 19
  },
  {
   "cell_type": "code",
   "outputs": [],
   "source": [],
   "metadata": {
    "collapsed": false
   },
   "id": "747e5a6406f7bb2a"
  }
 ],
 "metadata": {
  "kernelspec": {
   "display_name": "Python 3",
   "language": "python",
   "name": "python3"
  },
  "language_info": {
   "codemirror_mode": {
    "name": "ipython",
    "version": 2
   },
   "file_extension": ".py",
   "mimetype": "text/x-python",
   "name": "python",
   "nbconvert_exporter": "python",
   "pygments_lexer": "ipython2",
   "version": "2.7.6"
  }
 },
 "nbformat": 4,
 "nbformat_minor": 5
}
