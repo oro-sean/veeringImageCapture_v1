{
 "cells": [
  {
   "cell_type": "code",
   "outputs": [
    {
     "name": "stderr",
     "output_type": "stream",
     "text": [
      "[ WARN:0@608.245] global /private/var/folders/k1/30mswbxs7r1g6zwn8y4fyt500000gp/T/abs_11nitadzeg/croot/opencv-suite_1691620374638/work/modules/videoio/src/cap_gstreamer.cpp (2386) handleMessage OpenCV | GStreamer warning: your GStreamer installation is missing a required plugin\n",
      "[ WARN:0@608.245] global /private/var/folders/k1/30mswbxs7r1g6zwn8y4fyt500000gp/T/abs_11nitadzeg/croot/opencv-suite_1691620374638/work/modules/videoio/src/cap_gstreamer.cpp (2402) handleMessage OpenCV | GStreamer warning: Embedded video playback halted; module uridecodebin3 reported: Your GStreamer installation is missing a plug-in.\n",
      "[ WARN:0@608.245] global /private/var/folders/k1/30mswbxs7r1g6zwn8y4fyt500000gp/T/abs_11nitadzeg/croot/opencv-suite_1691620374638/work/modules/videoio/src/cap_gstreamer.cpp (1356) open OpenCV | GStreamer warning: unable to start pipeline\n",
      "[ WARN:0@608.245] global /private/var/folders/k1/30mswbxs7r1g6zwn8y4fyt500000gp/T/abs_11nitadzeg/croot/opencv-suite_1691620374638/work/modules/videoio/src/cap_gstreamer.cpp (862) isPipelinePlaying OpenCV | GStreamer warning: GStreamer: pipeline have not been created\n"
     ]
    },
    {
     "name": "stdout",
     "output_type": "stream",
     "text": [
      "124.39543986320496\n"
     ]
    }
   ],
   "source": [
    "import cv2\n",
    "from PIL import Image\n",
    "import os\n",
    "import datetime\n",
    "import piexif\n",
    "import os\n",
    "import time\n",
    "\n",
    "videoFile = '/Users/sean/mbp_storage/240420/stbMain/mp4/20240420_171650.MP4'\n",
    "jpgFile = '/Users/sean/mbp_storage/240420/stbMain/jpg'\n",
    "\n",
    "cap = cv2.VideoCapture(videoFile)\n",
    "\n",
    "\n",
    "    \n",
    "image_counter = 0\n",
    "\n",
    "time_start = time.time()  \n",
    "file_names = []\n",
    "while(cap.isOpened()):\n",
    "    ret,cv2_im = cap.read()\n",
    "    if not ret: \n",
    "        cap.release()\n",
    "        break\n",
    "    converted = cv2.cvtColor(cv2_im,cv2.COLOR_BGR2RGB)\n",
    "    pil_im = Image.fromarray(converted)\n",
    "    fileName = str(image_counter) + '.jpg'\n",
    "    file_names.append(fileName)\n",
    "    pil_im.save(os.path.join(jpgFile, fileName))\n",
    "    image_counter += 1\n",
    "\n",
    "time_end = time.time()\n",
    "print(time_end-time_start)\n",
    "\n",
    "\n"
   ],
   "metadata": {
    "collapsed": true,
    "ExecuteTime": {
     "end_time": "2024-04-29T02:39:31.625025Z",
     "start_time": "2024-04-29T02:37:27.198208Z"
    }
   },
   "id": "initial_id",
   "execution_count": 5
  },
  {
   "cell_type": "code",
   "outputs": [
    {
     "name": "stderr",
     "output_type": "stream",
     "text": [
      "[ WARN:0@209.748] global /private/var/folders/k1/30mswbxs7r1g6zwn8y4fyt500000gp/T/abs_11nitadzeg/croot/opencv-suite_1691620374638/work/modules/videoio/src/cap_gstreamer.cpp (2386) handleMessage OpenCV | GStreamer warning: your GStreamer installation is missing a required plugin\n",
      "[ WARN:0@209.748] global /private/var/folders/k1/30mswbxs7r1g6zwn8y4fyt500000gp/T/abs_11nitadzeg/croot/opencv-suite_1691620374638/work/modules/videoio/src/cap_gstreamer.cpp (2402) handleMessage OpenCV | GStreamer warning: Embedded video playback halted; module uridecodebin1 reported: Your GStreamer installation is missing a plug-in.\n",
      "[ WARN:0@209.748] global /private/var/folders/k1/30mswbxs7r1g6zwn8y4fyt500000gp/T/abs_11nitadzeg/croot/opencv-suite_1691620374638/work/modules/videoio/src/cap_gstreamer.cpp (1356) open OpenCV | GStreamer warning: unable to start pipeline\n",
      "[ WARN:0@209.748] global /private/var/folders/k1/30mswbxs7r1g6zwn8y4fyt500000gp/T/abs_11nitadzeg/croot/opencv-suite_1691620374638/work/modules/videoio/src/cap_gstreamer.cpp (862) isPipelinePlaying OpenCV | GStreamer warning: GStreamer: pipeline have not been created\n"
     ]
    }
   ],
   "source": [
    "import veeringVideo\n",
    "test = veeringVideo.SailTimeLapse('/Users/sean/mbp_storage/timeLapse/20240420_171650_03.MP4')\n",
    "test.TimeLapse_To_JPG()\n"
   ],
   "metadata": {
    "collapsed": false,
    "ExecuteTime": {
     "end_time": "2024-04-29T04:05:05.797381Z",
     "start_time": "2024-04-29T04:03:11.730333Z"
    }
   },
   "id": "f35bb58fabe16c21",
   "execution_count": 3
  },
  {
   "cell_type": "code",
   "outputs": [],
   "source": [
    "test.Update_TS()"
   ],
   "metadata": {
    "collapsed": false,
    "ExecuteTime": {
     "end_time": "2024-04-29T04:02:01.352824Z",
     "start_time": "2024-04-29T04:02:00.093057Z"
    }
   },
   "id": "a824d88bc3433899",
   "execution_count": 2
  },
  {
   "cell_type": "code",
   "outputs": [
    {
     "name": "stdout",
     "output_type": "stream",
     "text": [
      "None\n"
     ]
    }
   ],
   "source": [
    "print(test.exportFolder)"
   ],
   "metadata": {
    "collapsed": false,
    "ExecuteTime": {
     "end_time": "2024-04-29T03:47:19.207254Z",
     "start_time": "2024-04-29T03:47:19.204345Z"
    }
   },
   "id": "1a23ac3dc551389",
   "execution_count": 4
  },
  {
   "cell_type": "code",
   "outputs": [],
   "source": [
    "s=''\n",
    "fileList = list(os.path.split(videoFile)[-1])\n",
    "year = int(s.join(fileList[0:4]))\n",
    "month = int(s.join(fileList[4:6]))\n",
    "day = int(s.join(fileList[6:8]))\n",
    "hour = int(s.join(fileList[9:11]))\n",
    "minute = int(s.join(fileList[11:13]))\n",
    "second = int(s.join(fileList[13:15]))\n",
    "timeStep = int(s.join(fileList[16:18]))\n",
    "\n",
    "timeLapse_endTime = datetime.datetime(year, month, day, hour, minute, second)\n",
    "timeLapse_timeStep = datetime.timedelta(seconds=timeStep)\n",
    "\n"
   ],
   "metadata": {
    "collapsed": false,
    "ExecuteTime": {
     "end_time": "2024-04-29T03:18:20.266494Z",
     "start_time": "2024-04-29T03:18:20.262286Z"
    }
   },
   "id": "ddec3f828a24cdf9",
   "execution_count": 44
  },
  {
   "cell_type": "code",
   "outputs": [
    {
     "data": {
      "text/plain": "'/Users/sean/mbp_storage/timeLapse'"
     },
     "execution_count": 45,
     "metadata": {},
     "output_type": "execute_result"
    }
   ],
   "source": [
    "list(os.path.split(videoFile))[0]"
   ],
   "metadata": {
    "collapsed": false,
    "ExecuteTime": {
     "end_time": "2024-04-29T03:18:21.529169Z",
     "start_time": "2024-04-29T03:18:21.525691Z"
    }
   },
   "id": "b14a43a0376e4a8e",
   "execution_count": 45
  },
  {
   "cell_type": "code",
   "outputs": [],
   "source": [
    "os.mkdir(os.path.join(list(os.path.split(videoFile))[0],'jpg'))"
   ],
   "metadata": {
    "collapsed": false,
    "ExecuteTime": {
     "end_time": "2024-04-29T03:19:20.998147Z",
     "start_time": "2024-04-29T03:19:20.995108Z"
    }
   },
   "id": "3233acbd90e96e4",
   "execution_count": 46
  },
  {
   "cell_type": "code",
   "outputs": [],
   "source": [
    "\n",
    "import ffmpeg\n",
    "metaData = ffmpeg.probe(videoFile)"
   ],
   "metadata": {
    "collapsed": false,
    "ExecuteTime": {
     "end_time": "2024-04-29T03:00:50.601626Z",
     "start_time": "2024-04-29T03:00:50.436200Z"
    }
   },
   "id": "834cccba78523ca6",
   "execution_count": 33
  },
  {
   "cell_type": "code",
   "outputs": [
    {
     "data": {
      "text/plain": "'165.698867'"
     },
     "execution_count": 37,
     "metadata": {},
     "output_type": "execute_result"
    }
   ],
   "source": [
    "metaData['streams'][0][('duration')]"
   ],
   "metadata": {
    "collapsed": false,
    "ExecuteTime": {
     "end_time": "2024-04-29T03:08:39.026373Z",
     "start_time": "2024-04-29T03:08:39.023219Z"
    }
   },
   "id": "e0a20f0d28271d8",
   "execution_count": 37
  },
  {
   "cell_type": "code",
   "outputs": [
    {
     "data": {
      "text/plain": "[{'index': 0,\n  'codec_name': 'h264',\n  'codec_long_name': 'H.264 / AVC / MPEG-4 AVC / MPEG-4 part 10',\n  'profile': 'High',\n  'codec_type': 'video',\n  'codec_time_base': '1001/60000',\n  'codec_tag_string': 'avc1',\n  'codec_tag': '0x31637661',\n  'width': 1920,\n  'height': 1080,\n  'coded_width': 1920,\n  'coded_height': 1088,\n  'has_b_frames': 0,\n  'pix_fmt': 'yuv420p',\n  'level': 52,\n  'color_range': 'tv',\n  'color_space': 'bt709',\n  'color_transfer': 'bt709',\n  'color_primaries': 'bt709',\n  'chroma_location': 'left',\n  'refs': 1,\n  'is_avc': 'true',\n  'nal_length_size': '4',\n  'r_frame_rate': '30000/1001',\n  'avg_frame_rate': '30000/1001',\n  'time_base': '1/30000',\n  'start_pts': 0,\n  'start_time': '0.000000',\n  'duration_ts': 4970966,\n  'duration': '165.698867',\n  'bit_rate': '49993880',\n  'bits_per_raw_sample': '8',\n  'nb_frames': '4966',\n  'disposition': {'default': 1,\n   'dub': 0,\n   'original': 0,\n   'comment': 0,\n   'lyrics': 0,\n   'karaoke': 0,\n   'forced': 0,\n   'hearing_impaired': 0,\n   'visual_impaired': 0,\n   'clean_effects': 0,\n   'attached_pic': 0,\n   'timed_thumbnails': 0},\n  'tags': {'creation_time': '2024-04-20T17:08:35.000000Z',\n   'language': 'und',\n   'handler_name': 'VideoHandler'}},\n {'index': 1,\n  'codec_type': 'data',\n  'codec_tag_string': 'djmd',\n  'codec_tag': '0x646d6a64',\n  'r_frame_rate': '0/0',\n  'avg_frame_rate': '0/0',\n  'time_base': '1/90000',\n  'start_pts': 0,\n  'start_time': '0.000000',\n  'duration_ts': 14912601,\n  'duration': '165.695567',\n  'bit_rate': '11986',\n  'nb_frames': '4966',\n  'disposition': {'default': 0,\n   'dub': 0,\n   'original': 0,\n   'comment': 0,\n   'lyrics': 0,\n   'karaoke': 0,\n   'forced': 0,\n   'hearing_impaired': 0,\n   'visual_impaired': 0,\n   'clean_effects': 0,\n   'attached_pic': 0,\n   'timed_thumbnails': 0},\n  'tags': {'creation_time': '2024-04-20T17:08:35.000000Z',\n   'language': 'und',\n   'handler_name': 'DJI meta'}},\n {'index': 2,\n  'codec_type': 'data',\n  'codec_tag_string': 'dbgi',\n  'codec_tag': '0x69676264',\n  'r_frame_rate': '0/0',\n  'avg_frame_rate': '0/0',\n  'time_base': '1/30000',\n  'start_pts': 0,\n  'start_time': '0.000000',\n  'duration_ts': 4970867,\n  'duration': '165.695567',\n  'bit_rate': '2495915',\n  'nb_frames': '4966',\n  'disposition': {'default': 0,\n   'dub': 0,\n   'original': 0,\n   'comment': 0,\n   'lyrics': 0,\n   'karaoke': 0,\n   'forced': 0,\n   'hearing_impaired': 0,\n   'visual_impaired': 0,\n   'clean_effects': 0,\n   'attached_pic': 0,\n   'timed_thumbnails': 0},\n  'tags': {'creation_time': '2024-04-20T17:08:35.000000Z',\n   'language': 'und',\n   'handler_name': 'DJI dbgi'}},\n {'index': 3,\n  'codec_name': 'mjpeg',\n  'codec_long_name': 'Motion JPEG',\n  'profile': 'Baseline',\n  'codec_type': 'video',\n  'codec_time_base': '0/1',\n  'codec_tag_string': '[0][0][0][0]',\n  'codec_tag': '0x0000',\n  'width': 1280,\n  'height': 720,\n  'coded_width': 1280,\n  'coded_height': 720,\n  'has_b_frames': 0,\n  'sample_aspect_ratio': '1:1',\n  'display_aspect_ratio': '16:9',\n  'pix_fmt': 'yuvj420p',\n  'level': -99,\n  'color_range': 'pc',\n  'color_space': 'bt470bg',\n  'chroma_location': 'center',\n  'refs': 1,\n  'r_frame_rate': '90000/1',\n  'avg_frame_rate': '0/0',\n  'time_base': '1/90000',\n  'start_pts': 0,\n  'start_time': '0.000000',\n  'duration_ts': 14912910,\n  'duration': '165.699000',\n  'bits_per_raw_sample': '8',\n  'disposition': {'default': 0,\n   'dub': 0,\n   'original': 0,\n   'comment': 0,\n   'lyrics': 0,\n   'karaoke': 0,\n   'forced': 0,\n   'hearing_impaired': 0,\n   'visual_impaired': 0,\n   'clean_effects': 0,\n   'attached_pic': 1,\n   'timed_thumbnails': 0}}]"
     },
     "execution_count": 39,
     "metadata": {},
     "output_type": "execute_result"
    }
   ],
   "source": [
    "metaData['streams']"
   ],
   "metadata": {
    "collapsed": false,
    "ExecuteTime": {
     "end_time": "2024-04-29T03:12:09.788732Z",
     "start_time": "2024-04-29T03:12:09.782989Z"
    }
   },
   "id": "7b6e22fccea38819",
   "execution_count": 39
  },
  {
   "cell_type": "code",
   "outputs": [],
   "source": [
    "try:\n",
    "    os.mkdir(output_loc)\n",
    "except OSError:\n",
    "    pass\n",
    "    # Log the time\n",
    "time_start = time.time()\n",
    "# Start capturing the feed\n",
    "cap = cv2.VideoCapture(input_loc)\n",
    "# Find the number of frames\n",
    "video_length = int(cap.get(cv2.CAP_PROP_FRAME_COUNT)) - 1\n",
    "print (\"Number of frames: \", video_length)\n",
    "count = 0\n",
    "print (\"Converting video..\\n\")\n",
    "# Start converting the video\n",
    "while cap.isOpened():\n",
    "# Extract the frame\n",
    "ret, frame = cap.read()\n",
    "if not ret:\n",
    "    continue\n",
    "# Write the results back to output location.\n",
    "cv2.imwrite(output_loc + \"/%#05d.jpg\" % (count+1), frame)\n",
    "count = count + 1\n",
    "# If there are no more frames left\n",
    "if (count > (video_length-1)):\n",
    "# Log the time again\n",
    "time_end = time.time()\n",
    "# Release the feed\n",
    "cap.release()\n",
    "# Print stats\n",
    "print (\"Done extracting frames.\\n%d frames extracted\" % count)\n",
    "print (\"It took %d seconds fo"
   ],
   "metadata": {
    "collapsed": false
   },
   "id": "2ab65ab773890836"
  },
  {
   "cell_type": "code",
   "outputs": [
    {
     "name": "stdout",
     "output_type": "stream",
     "text": [
      "2024-04-20 13:08:32\n",
      "0:00:03\n",
      "2024-04-20 17:16:50\n"
     ]
    }
   ],
   "source": [
    "timeLapse_endTime = datetime.datetime(2024, 4, 20, 17, 16, 50)\n",
    "\n",
    "timeLapse_timeStep = datetime.timedelta(seconds=3)\n",
    "timeLapse_startTime = timeLapse_endTime - timeLapse_timeStep * len(file_names)\n",
    "print(timeLapse_startTime)\n",
    "print(timeLapse_timeStep)\n",
    "print(timeLapse_endTime)\n",
    "\n",
    "for i in range(len(file_names)):\n",
    "    timeStamp = timeLapse_startTime+timeLapse_timeStep*(i+1)\n",
    "    timeStamp_str = (str(timeStamp.year)+':'+\n",
    "                     str(timeStamp.month)+':'+\n",
    "                     str(timeStamp.day)+(' ')+\n",
    "                     str(timeStamp.hour)+':'+\n",
    "                     str(timeStamp.minute)+':'+\n",
    "                     str(timeStamp.second))\n",
    "\n",
    "    exif_dict = {'0th': {306: bytes(timeStamp_str,encoding = 'utf-8')}}\n",
    "\n",
    "    exif_bytes = piexif.dump(exif_dict)\n",
    "    filePath = os.path.join(jpgFile,file_names[i])\n",
    "    piexif.insert(exif_bytes, filePath)"
   ],
   "metadata": {
    "collapsed": false,
    "ExecuteTime": {
     "end_time": "2024-04-21T10:49:08.585970Z",
     "start_time": "2024-04-21T10:49:06.489984Z"
    }
   },
   "id": "6502b93d04cbf1f",
   "execution_count": 11
  },
  {
   "cell_type": "code",
   "outputs": [],
   "source": [
    "import ffmpeg\n",
    "videoFile = '/Users/sean/mbp_storage/timeLapse/stb/GX010006_2.mp4'\n",
    "metaData = ffmpeg.probe(videoFile)"
   ],
   "metadata": {
    "collapsed": false,
    "ExecuteTime": {
     "end_time": "2024-04-30T03:11:39.648515Z",
     "start_time": "2024-04-30T03:11:39.615301Z"
    }
   },
   "id": "79ccb28d6eb7eb1f",
   "execution_count": 8
  },
  {
   "cell_type": "code",
   "outputs": [
    {
     "data": {
      "text/plain": "'2024-04-03T13:37:43.000000Z'"
     },
     "execution_count": 11,
     "metadata": {},
     "output_type": "execute_result"
    }
   ],
   "source": [
    "metaData['streams'][0]['tags']['creation_time']"
   ],
   "metadata": {
    "collapsed": false,
    "ExecuteTime": {
     "end_time": "2024-04-30T03:13:31.410714Z",
     "start_time": "2024-04-30T03:13:31.406968Z"
    }
   },
   "id": "4bce4ecd2d2df9b9",
   "execution_count": 11
  },
  {
   "cell_type": "code",
   "outputs": [
    {
     "data": {
      "text/plain": "{'creation_time': '2024-04-03T13:37:43.000000Z',\n 'language': 'eng',\n 'handler_name': '\\x0bGoPro H.265',\n 'encoder': 'GoPro H.265 encoder',\n 'timecode': '09:57:02:17'}"
     },
     "execution_count": 12,
     "metadata": {},
     "output_type": "execute_result"
    }
   ],
   "source": [
    "metaData['streams'][0]['tags']"
   ],
   "metadata": {
    "collapsed": false,
    "ExecuteTime": {
     "end_time": "2024-04-30T03:13:51.448684Z",
     "start_time": "2024-04-30T03:13:51.445260Z"
    }
   },
   "id": "eedfd91f0e7c58a8",
   "execution_count": 12
  },
  {
   "cell_type": "code",
   "outputs": [
    {
     "data": {
      "text/plain": "'2225'"
     },
     "execution_count": 24,
     "metadata": {},
     "output_type": "execute_result"
    }
   ],
   "source": [
    "metaData['streams'][0]['nb_frames']"
   ],
   "metadata": {
    "collapsed": false,
    "ExecuteTime": {
     "end_time": "2024-04-30T03:25:06.816264Z",
     "start_time": "2024-04-30T03:25:06.812817Z"
    }
   },
   "id": "c01653e348895d54",
   "execution_count": 24
  },
  {
   "cell_type": "code",
   "outputs": [
    {
     "data": {
      "text/plain": "'74.240833'"
     },
     "execution_count": 14,
     "metadata": {},
     "output_type": "execute_result"
    }
   ],
   "source": [
    "metaData['streams'][0]['duration']"
   ],
   "metadata": {
    "collapsed": false,
    "ExecuteTime": {
     "end_time": "2024-04-30T03:15:12.642625Z",
     "start_time": "2024-04-30T03:15:12.639231Z"
    }
   },
   "id": "e560ca13e021cc89",
   "execution_count": 14
  },
  {
   "cell_type": "code",
   "outputs": [],
   "source": [
    "frames = metaData['streams'][0]['nb_frames']"
   ],
   "metadata": {
    "collapsed": false,
    "ExecuteTime": {
     "end_time": "2024-04-30T03:25:15.545273Z",
     "start_time": "2024-04-30T03:25:15.542652Z"
    }
   },
   "id": "f959eb168ca4dcae",
   "execution_count": 25
  },
  {
   "cell_type": "code",
   "outputs": [
    {
     "data": {
      "text/plain": "1.2361111111111112"
     },
     "execution_count": 18,
     "metadata": {},
     "output_type": "execute_result"
    }
   ],
   "source": [
    "frames*2/3600"
   ],
   "metadata": {
    "collapsed": false,
    "ExecuteTime": {
     "end_time": "2024-04-30T03:18:50.519106Z",
     "start_time": "2024-04-30T03:18:50.515760Z"
    }
   },
   "id": "6ff9662ceccfd58c",
   "execution_count": 18
  },
  {
   "cell_type": "code",
   "outputs": [],
   "source": [
    "import datetime\n",
    "startTime = datetime.datetime.strptime(metaData['streams'][0]['tags']['creation_time'], '%Y-%m-%dT%H:%M:%S.%fZ')"
   ],
   "metadata": {
    "collapsed": false,
    "ExecuteTime": {
     "end_time": "2024-04-30T03:23:49.958271Z",
     "start_time": "2024-04-30T03:23:49.955215Z"
    }
   },
   "id": "87319dadcfa3003a",
   "execution_count": 21
  },
  {
   "cell_type": "code",
   "outputs": [
    {
     "data": {
      "text/plain": "datetime.datetime(2024, 4, 3, 13, 37, 43)"
     },
     "execution_count": 22,
     "metadata": {},
     "output_type": "execute_result"
    }
   ],
   "source": [
    "startTime"
   ],
   "metadata": {
    "collapsed": false,
    "ExecuteTime": {
     "end_time": "2024-04-30T03:23:54.372445Z",
     "start_time": "2024-04-30T03:23:54.369892Z"
    }
   },
   "id": "5b0c9dd9a60004d4",
   "execution_count": 22
  },
  {
   "cell_type": "code",
   "outputs": [],
   "source": [
    "runTime = datetime.timedelta(seconds=int(frames)*2)\n",
    "timeZone = "
   ],
   "metadata": {
    "collapsed": false,
    "ExecuteTime": {
     "end_time": "2024-04-30T03:26:36.120212Z",
     "start_time": "2024-04-30T03:26:36.117684Z"
    }
   },
   "id": "6ef2a747c79e9513",
   "execution_count": 29
  },
  {
   "cell_type": "code",
   "outputs": [
    {
     "data": {
      "text/plain": "datetime.datetime(2024, 4, 3, 14, 51, 53)"
     },
     "execution_count": 31,
     "metadata": {},
     "output_type": "execute_result"
    }
   ],
   "source": [
    "startTime+runTime"
   ],
   "metadata": {
    "collapsed": false,
    "ExecuteTime": {
     "end_time": "2024-04-30T03:26:53.388951Z",
     "start_time": "2024-04-30T03:26:53.385578Z"
    }
   },
   "id": "ced4aad93f8c2760",
   "execution_count": 31
  },
  {
   "cell_type": "code",
   "outputs": [],
   "source": [
    "import veeringVideo\n",
    "test = veeringVideo.Rename_GP_TimeLapse('/Users/sean/mbp_storage/timeLapse/stb/GX010006_2.mp4',-4,2)"
   ],
   "metadata": {
    "collapsed": false,
    "ExecuteTime": {
     "end_time": "2024-04-30T04:06:01.949462Z",
     "start_time": "2024-04-30T04:06:01.715024Z"
    }
   },
   "id": "98d70e2412887e8c",
   "execution_count": 1
  },
  {
   "cell_type": "code",
   "outputs": [],
   "source": [
    "test.Get_TS()"
   ],
   "metadata": {
    "collapsed": false,
    "ExecuteTime": {
     "end_time": "2024-04-30T04:06:02.891822Z",
     "start_time": "2024-04-30T04:06:02.867729Z"
    }
   },
   "id": "a1c73b1a6caffb2f",
   "execution_count": 2
  },
  {
   "cell_type": "code",
   "outputs": [],
   "source": [
    "test.Change_File_Name()"
   ],
   "metadata": {
    "collapsed": false,
    "ExecuteTime": {
     "end_time": "2024-04-30T04:06:03.893775Z",
     "start_time": "2024-04-30T04:06:03.891462Z"
    }
   },
   "id": "a8e9938a5b58db55",
   "execution_count": 3
  },
  {
   "cell_type": "code",
   "outputs": [
    {
     "name": "stdout",
     "output_type": "stream",
     "text": [
      "here\n"
     ]
    }
   ],
   "source": [
    " s=''\n",
    "if len(str(test.finishTime.month)) < 2:\n",
    "    print(\"here\")\n",
    "   \n",
    "    tz = s.join(['0',str(test.finishTime.month)])"
   ],
   "metadata": {
    "collapsed": false,
    "ExecuteTime": {
     "end_time": "2024-04-30T03:47:23.745725Z",
     "start_time": "2024-04-30T03:47:23.742946Z"
    }
   },
   "id": "496d07fd7150fb50",
   "execution_count": 18
  },
  {
   "cell_type": "code",
   "outputs": [
    {
     "data": {
      "text/plain": "'04'"
     },
     "execution_count": 19,
     "metadata": {},
     "output_type": "execute_result"
    }
   ],
   "source": [
    "tz"
   ],
   "metadata": {
    "collapsed": false,
    "ExecuteTime": {
     "end_time": "2024-04-30T03:47:29.238203Z",
     "start_time": "2024-04-30T03:47:29.235215Z"
    }
   },
   "id": "ac8ff7a246df8a1e",
   "execution_count": 19
  },
  {
   "cell_type": "code",
   "outputs": [
    {
     "data": {
      "text/plain": "'21'"
     },
     "execution_count": 17,
     "metadata": {},
     "output_type": "execute_result"
    }
   ],
   "source": [
    "s.join(['2','1'])"
   ],
   "metadata": {
    "collapsed": false,
    "ExecuteTime": {
     "end_time": "2024-04-30T03:46:51.323756Z",
     "start_time": "2024-04-30T03:46:51.321107Z"
    }
   },
   "id": "830187dc00dce29b",
   "execution_count": 17
  },
  {
   "cell_type": "code",
   "outputs": [
    {
     "data": {
      "text/plain": "'/Users/sean/mbp_storage/timeLapse/stb/GX010006_2.mp4'"
     },
     "execution_count": 4,
     "metadata": {},
     "output_type": "execute_result"
    }
   ],
   "source": [
    "test.file"
   ],
   "metadata": {
    "collapsed": false,
    "ExecuteTime": {
     "end_time": "2024-04-30T03:59:58.845865Z",
     "start_time": "2024-04-30T03:59:58.841636Z"
    }
   },
   "id": "2099e3efbdbd7a36",
   "execution_count": 4
  },
  {
   "cell_type": "code",
   "outputs": [
    {
     "name": "stderr",
     "output_type": "stream",
     "text": [
      "[ WARN:0@431.361] global /private/var/folders/k1/30mswbxs7r1g6zwn8y4fyt500000gp/T/abs_11nitadzeg/croot/opencv-suite_1691620374638/work/modules/videoio/src/cap_gstreamer.cpp (2386) handleMessage OpenCV | GStreamer warning: your GStreamer installation is missing a required plugin\n",
      "[ WARN:0@431.361] global /private/var/folders/k1/30mswbxs7r1g6zwn8y4fyt500000gp/T/abs_11nitadzeg/croot/opencv-suite_1691620374638/work/modules/videoio/src/cap_gstreamer.cpp (2402) handleMessage OpenCV | GStreamer warning: Embedded video playback halted; module uridecodebin0 reported: Your GStreamer installation is missing a plug-in.\n",
      "[ WARN:0@431.361] global /private/var/folders/k1/30mswbxs7r1g6zwn8y4fyt500000gp/T/abs_11nitadzeg/croot/opencv-suite_1691620374638/work/modules/videoio/src/cap_gstreamer.cpp (1356) open OpenCV | GStreamer warning: unable to start pipeline\n",
      "[ WARN:0@431.361] global /private/var/folders/k1/30mswbxs7r1g6zwn8y4fyt500000gp/T/abs_11nitadzeg/croot/opencv-suite_1691620374638/work/modules/videoio/src/cap_gstreamer.cpp (862) isPipelinePlaying OpenCV | GStreamer warning: GStreamer: pipeline have not been created\n"
     ]
    }
   ],
   "source": [
    "veeringVideo.SailTimeLapse('/Users/sean/mbp_storage/timeLapse/stb/20240403_105153_02.mp4').TimeLapse_To_JPG()"
   ],
   "metadata": {
    "collapsed": false,
    "ExecuteTime": {
     "end_time": "2024-04-30T04:14:07.635038Z",
     "start_time": "2024-04-30T04:13:13.157470Z"
    }
   },
   "id": "52b8d6885f57513",
   "execution_count": 6
  },
  {
   "cell_type": "code",
   "outputs": [],
   "source": [],
   "metadata": {
    "collapsed": false
   },
   "id": "4e42fae08f37fd0b"
  }
 ],
 "metadata": {
  "kernelspec": {
   "display_name": "Python 3",
   "language": "python",
   "name": "python3"
  },
  "language_info": {
   "codemirror_mode": {
    "name": "ipython",
    "version": 2
   },
   "file_extension": ".py",
   "mimetype": "text/x-python",
   "name": "python",
   "nbconvert_exporter": "python",
   "pygments_lexer": "ipython2",
   "version": "2.7.6"
  }
 },
 "nbformat": 4,
 "nbformat_minor": 5
}
